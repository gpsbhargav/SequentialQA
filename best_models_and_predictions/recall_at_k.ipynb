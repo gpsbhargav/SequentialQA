{
 "cells": [
  {
   "cell_type": "code",
   "execution_count": 1,
   "metadata": {},
   "outputs": [],
   "source": [
    "from collections import Counter\n",
    "import string\n",
    "import re\n",
    "import argparse\n",
    "import json\n",
    "import sys\n",
    "import numpy as np\n",
    "import nltk\n",
    "import random\n",
    "import math\n",
    "import os\n",
    "import pickle\n",
    "from tqdm import tqdm"
   ]
  },
  {
   "cell_type": "code",
   "execution_count": 2,
   "metadata": {},
   "outputs": [],
   "source": [
    "in_pkl_path = \"./\"\n",
    "pred_pkl_name = \"h0_predictions_no_tf.pkl\"\n",
    "gt_pkl_name = \"../data/coqa/preprocessed_standard_dev.pkl\""
   ]
  },
  {
   "cell_type": "code",
   "execution_count": 3,
   "metadata": {},
   "outputs": [],
   "source": [
    "def pickler(path,pkl_name,obj):\n",
    "    with open(os.path.join(path, pkl_name), 'wb') as f:\n",
    "        pickle.dump(obj, f, pickle.HIGHEST_PROTOCOL)\n",
    "\n",
    "def unpickler(path,pkl_name):\n",
    "    with open(os.path.join(path, pkl_name) ,'rb') as f:\n",
    "        obj = pickle.load(f)\n",
    "    return obj"
   ]
  },
  {
   "cell_type": "code",
   "execution_count": 4,
   "metadata": {},
   "outputs": [],
   "source": [
    "dev_data = unpickler(in_pkl_path,gt_pkl_name)"
   ]
  },
  {
   "cell_type": "code",
   "execution_count": 5,
   "metadata": {},
   "outputs": [],
   "source": [
    "gt = dev_data[\"supporting_facts\"]"
   ]
  },
  {
   "cell_type": "code",
   "execution_count": 6,
   "metadata": {},
   "outputs": [
    {
     "data": {
      "text/plain": [
       "7983"
      ]
     },
     "execution_count": 6,
     "metadata": {},
     "output_type": "execute_result"
    }
   ],
   "source": [
    "len(gt)"
   ]
  },
  {
   "cell_type": "code",
   "execution_count": 7,
   "metadata": {},
   "outputs": [],
   "source": [
    "gt_classes = np.array(gt).argmax(axis=1)"
   ]
  },
  {
   "cell_type": "code",
   "execution_count": 8,
   "metadata": {},
   "outputs": [
    {
     "data": {
      "text/plain": [
       "(7983,)"
      ]
     },
     "execution_count": 8,
     "metadata": {},
     "output_type": "execute_result"
    }
   ],
   "source": [
    "gt_classes.shape"
   ]
  },
  {
   "cell_type": "code",
   "execution_count": 9,
   "metadata": {},
   "outputs": [
    {
     "data": {
      "text/plain": [
       "5.758612050607541"
      ]
     },
     "execution_count": 9,
     "metadata": {},
     "output_type": "execute_result"
    }
   ],
   "source": [
    "gt_classes.mean()"
   ]
  },
  {
   "cell_type": "code",
   "execution_count": 10,
   "metadata": {},
   "outputs": [],
   "source": [
    "predictions = unpickler(in_pkl_path,pred_pkl_name)"
   ]
  },
  {
   "cell_type": "code",
   "execution_count": 11,
   "metadata": {},
   "outputs": [
    {
     "data": {
      "text/plain": [
       "(7983, 25)"
      ]
     },
     "execution_count": 11,
     "metadata": {},
     "output_type": "execute_result"
    }
   ],
   "source": [
    "predictions.shape"
   ]
  },
  {
   "cell_type": "code",
   "execution_count": 12,
   "metadata": {},
   "outputs": [],
   "source": [
    "predictions_arg_sorted = predictions.argsort()"
   ]
  },
  {
   "cell_type": "code",
   "execution_count": 13,
   "metadata": {},
   "outputs": [
    {
     "data": {
      "text/plain": [
       "(7983, 25)"
      ]
     },
     "execution_count": 13,
     "metadata": {},
     "output_type": "execute_result"
    }
   ],
   "source": [
    "predictions_arg_sorted.shape"
   ]
  },
  {
   "cell_type": "code",
   "execution_count": 14,
   "metadata": {},
   "outputs": [
    {
     "data": {
      "text/plain": [
       "0"
      ]
     },
     "execution_count": 14,
     "metadata": {},
     "output_type": "execute_result"
    }
   ],
   "source": [
    "gt_classes[0]"
   ]
  },
  {
   "cell_type": "code",
   "execution_count": 15,
   "metadata": {},
   "outputs": [
    {
     "data": {
      "text/plain": [
       "array([24, 23, 22, 21, 20, 12, 14,  3,  8, 10, 19,  5,  1, 13,  4, 11,  2,\n",
       "       18,  7, 17, 15,  0,  6,  9, 16])"
      ]
     },
     "execution_count": 15,
     "metadata": {},
     "output_type": "execute_result"
    }
   ],
   "source": [
    "predictions_arg_sorted[10]"
   ]
  },
  {
   "cell_type": "code",
   "execution_count": null,
   "metadata": {},
   "outputs": [],
   "source": []
  },
  {
   "cell_type": "code",
   "execution_count": 16,
   "metadata": {},
   "outputs": [],
   "source": [
    "def is_prediction_in_top_k(pred, gt, k):\n",
    "    top_k = pred[:,-k:]\n",
    "    num_correct = 0.0\n",
    "    for i, item in enumerate(top_k):\n",
    "        if(gt[i] in item):\n",
    "            num_correct += 1.0\n",
    "    return num_correct/len(gt)"
   ]
  },
  {
   "cell_type": "code",
   "execution_count": 17,
   "metadata": {},
   "outputs": [
    {
     "name": "stdout",
     "output_type": "stream",
     "text": [
      "k: 1, acc:0.507453338343981\n",
      "k: 2, acc:0.6725541776274584\n",
      "k: 3, acc:0.7697607415758487\n",
      "k: 4, acc:0.8292621821370412\n",
      "k: 5, acc:0.867844168858825\n",
      "k: 6, acc:0.8974069898534386\n",
      "k: 7, acc:0.9213328322685708\n",
      "k: 8, acc:0.9394964299135663\n",
      "k: 9, acc:0.9544031066015283\n",
      "k: 10, acc:0.9654265313791808\n",
      "k: 11, acc:0.9740698985343855\n",
      "k: 12, acc:0.9802079418764875\n",
      "k: 13, acc:0.9855943880746586\n",
      "k: 14, acc:0.9896029061756232\n",
      "k: 15, acc:0.9913566328447951\n",
      "k: 16, acc:0.9942377552298635\n",
      "k: 17, acc:0.9961167480896906\n"
     ]
    }
   ],
   "source": [
    "for i in range(1,18):\n",
    "    acc = is_prediction_in_top_k(predictions_arg_sorted, gt_classes, i)\n",
    "    print(\"k: {}, acc:{}\".format(i,acc))"
   ]
  },
  {
   "cell_type": "markdown",
   "metadata": {},
   "source": [
    "Avg number of sentences per passage in coqa = 15"
   ]
  },
  {
   "cell_type": "raw",
   "metadata": {},
   "source": [
    "H2 with teacher forcing:\n",
    "k: 1, acc:0.5521733684078667\n",
    "k: 2, acc:0.7190279343605162\n",
    "k: 3, acc:0.8032068144807717\n",
    "k: 4, acc:0.8544406864587248\n",
    "k: 5, acc:0.8908931479393711\n",
    "k: 6, acc:0.9168232494049856\n",
    "k: 7, acc:0.9361142427658775\n",
    "k: 8, acc:0.9510209194538394\n",
    "k: 9, acc:0.9616685456595265\n",
    "k: 10, acc:0.9695603156708005\n",
    "k: 11, acc:0.9760741575848678\n",
    "k: 12, acc:0.9799574094951773\n",
    "k: 13, acc:0.9844669923587623\n",
    "k: 14, acc:0.9882249780784166\n",
    "k: 15, acc:0.992108229988726\n",
    "k: 16, acc:0.9934861580859327\n",
    "k: 17, acc:0.9952398847551046\n",
    "\n",
    "=========\n",
    "\n",
    "H2 No teacher forcing\n",
    "k: 1, acc:0.47388199924840285\n",
    "k: 2, acc:0.6490041337842917\n",
    "k: 3, acc:0.7432043091569586\n",
    "k: 4, acc:0.8052110735312539\n",
    "k: 5, acc:0.8488037078792434\n",
    "k: 6, acc:0.8837529750720281\n",
    "k: 7, acc:0.9086809470124013\n",
    "k: 8, acc:0.9287235375172241\n",
    "k: 9, acc:0.9432544156332205\n",
    "k: 10, acc:0.9555305023174245\n",
    "k: 11, acc:0.9650507328072153\n",
    "k: 12, acc:0.9728172366278341\n",
    "k: 13, acc:0.977953150444695\n",
    "k: 14, acc:0.9828385318802455\n",
    "k: 15, acc:0.9863459852185895\n",
    "k: 16, acc:0.9901039709382438\n",
    "k: 17, acc:0.992108229988726"
   ]
  },
  {
   "cell_type": "raw",
   "metadata": {},
   "source": [
    "h0 predictions\n",
    "k: 1, acc:0.507453338343981\n",
    "k: 2, acc:0.6725541776274584\n",
    "k: 3, acc:0.7697607415758487\n",
    "k: 4, acc:0.8292621821370412\n",
    "k: 5, acc:0.867844168858825\n",
    "k: 6, acc:0.8974069898534386\n",
    "k: 7, acc:0.9213328322685708\n",
    "k: 8, acc:0.9394964299135663\n",
    "k: 9, acc:0.9544031066015283\n",
    "k: 10, acc:0.9654265313791808\n",
    "k: 11, acc:0.9740698985343855\n",
    "k: 12, acc:0.9802079418764875\n",
    "k: 13, acc:0.9855943880746586\n",
    "k: 14, acc:0.9896029061756232\n",
    "k: 15, acc:0.9913566328447951\n",
    "k: 16, acc:0.9942377552298635\n",
    "k: 17, acc:0.9961167480896906\n",
    "Avg number of sentences per passage in coqa = 15"
   ]
  },
  {
   "cell_type": "code",
   "execution_count": null,
   "metadata": {},
   "outputs": [],
   "source": []
  }
 ],
 "metadata": {
  "kernelspec": {
   "display_name": "Python 3",
   "language": "python",
   "name": "python3"
  },
  "language_info": {
   "codemirror_mode": {
    "name": "ipython",
    "version": 3
   },
   "file_extension": ".py",
   "mimetype": "text/x-python",
   "name": "python",
   "nbconvert_exporter": "python",
   "pygments_lexer": "ipython3",
   "version": "3.6.6"
  }
 },
 "nbformat": 4,
 "nbformat_minor": 2
}
