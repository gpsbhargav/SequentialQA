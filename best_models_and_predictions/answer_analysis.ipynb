{
 "cells": [
  {
   "cell_type": "code",
   "execution_count": 1,
   "metadata": {},
   "outputs": [],
   "source": [
    "from collections import Counter\n",
    "import string\n",
    "import re\n",
    "import argparse\n",
    "import json\n",
    "import sys\n",
    "import numpy as np\n",
    "import nltk\n",
    "import random\n",
    "import math\n",
    "import os\n",
    "import pickle\n",
    "from tqdm import tqdm\n",
    "import seaborn as sns\n",
    "import pandas as pd\n",
    "import torch"
   ]
  },
  {
   "cell_type": "code",
   "execution_count": 2,
   "metadata": {},
   "outputs": [],
   "source": [
    "in_pkl_path = \"./\"\n",
    "pred_pkl_name = \"bi_att_predictions_no_tf.pkl\"\n",
    "gt_pkl_name = \"../data/coqa/preprocessed_dev_no_tf.pkl\""
   ]
  },
  {
   "cell_type": "code",
   "execution_count": 3,
   "metadata": {},
   "outputs": [],
   "source": [
    "def pickler(path,pkl_name,obj):\n",
    "    with open(os.path.join(path, pkl_name), 'wb') as f:\n",
    "        pickle.dump(obj, f, pickle.HIGHEST_PROTOCOL)\n",
    "\n",
    "def unpickler(path,pkl_name):\n",
    "    with open(os.path.join(path, pkl_name) ,'rb') as f:\n",
    "        obj = pickle.load(f)\n",
    "    return obj"
   ]
  },
  {
   "cell_type": "code",
   "execution_count": 4,
   "metadata": {},
   "outputs": [],
   "source": [
    "dev_data = unpickler(in_pkl_path,gt_pkl_name)"
   ]
  },
  {
   "cell_type": "code",
   "execution_count": 5,
   "metadata": {},
   "outputs": [
    {
     "data": {
      "text/plain": [
       "dict_keys(['passages_word', 'passages_char', 'questions_word', 'questions_char', 'answers_word', 'answers_char', 'histories_word', 'histories_char', 'supporting_facts', 'unpadded_question_lengths', 'unpadded_passage_lengths', 'unpadded_answer_lengths', 'data_points', 'turn_ids', 'questions_word_unpadded', 'questions_char_unpadded', 'separator_id'])"
      ]
     },
     "execution_count": 5,
     "metadata": {},
     "output_type": "execute_result"
    }
   ],
   "source": [
    "dev_data.keys()"
   ]
  },
  {
   "cell_type": "code",
   "execution_count": 6,
   "metadata": {},
   "outputs": [
    {
     "data": {
      "text/plain": [
       "25"
      ]
     },
     "execution_count": 6,
     "metadata": {},
     "output_type": "execute_result"
    }
   ],
   "source": [
    "len(dev_data['supporting_facts'][100])"
   ]
  },
  {
   "cell_type": "code",
   "execution_count": 7,
   "metadata": {},
   "outputs": [],
   "source": [
    "gt = dev_data[\"supporting_facts\"]"
   ]
  },
  {
   "cell_type": "code",
   "execution_count": 8,
   "metadata": {},
   "outputs": [
    {
     "data": {
      "text/plain": [
       "7983"
      ]
     },
     "execution_count": 8,
     "metadata": {},
     "output_type": "execute_result"
    }
   ],
   "source": [
    "len(gt)"
   ]
  },
  {
   "cell_type": "code",
   "execution_count": 9,
   "metadata": {},
   "outputs": [],
   "source": [
    "gt_classes = np.array(gt).argmax(axis=1)"
   ]
  },
  {
   "cell_type": "code",
   "execution_count": 10,
   "metadata": {},
   "outputs": [
    {
     "data": {
      "text/plain": [
       "array([ 0,  0,  2,  3,  6,  7,  9,  9, 10, 15, 17, 14,  0,  4,  8])"
      ]
     },
     "execution_count": 10,
     "metadata": {},
     "output_type": "execute_result"
    }
   ],
   "source": [
    "gt_classes[:15]"
   ]
  },
  {
   "cell_type": "code",
   "execution_count": 11,
   "metadata": {},
   "outputs": [
    {
     "data": {
      "text/plain": [
       "(7983,)"
      ]
     },
     "execution_count": 11,
     "metadata": {},
     "output_type": "execute_result"
    }
   ],
   "source": [
    "gt_classes.shape"
   ]
  },
  {
   "cell_type": "code",
   "execution_count": 12,
   "metadata": {},
   "outputs": [],
   "source": [
    "predictions = unpickler(in_pkl_path,pred_pkl_name)"
   ]
  },
  {
   "cell_type": "code",
   "execution_count": 13,
   "metadata": {},
   "outputs": [
    {
     "data": {
      "text/plain": [
       "(7983, 25)"
      ]
     },
     "execution_count": 13,
     "metadata": {},
     "output_type": "execute_result"
    }
   ],
   "source": [
    "predictions.shape"
   ]
  },
  {
   "cell_type": "code",
   "execution_count": 14,
   "metadata": {},
   "outputs": [
    {
     "data": {
      "text/plain": [
       "array([  7.4891295,   2.8007386,   6.0215797,  -2.5203133,   4.780283 ,\n",
       "         4.5949507,   6.4152956,   5.640228 ,  -3.380505 ,   7.090777 ,\n",
       "        -4.9287868,   3.6729574,  -5.3263607,   6.060643 ,  -5.174132 ,\n",
       "         5.4010873,   6.666089 ,   6.2652636,   3.7104907,   4.960864 ,\n",
       "        -2.5211742, -10.167487 , -10.167487 , -10.167487 , -10.167487 ],\n",
       "      dtype=float32)"
      ]
     },
     "execution_count": 14,
     "metadata": {},
     "output_type": "execute_result"
    }
   ],
   "source": [
    "predictions[0]"
   ]
  },
  {
   "cell_type": "code",
   "execution_count": 15,
   "metadata": {},
   "outputs": [],
   "source": [
    "predictions_softmaxed = torch.softmax(torch.tensor(predictions), dim=-1).numpy()"
   ]
  },
  {
   "cell_type": "code",
   "execution_count": 16,
   "metadata": {},
   "outputs": [
    {
     "data": {
      "text/plain": [
       "array([2.6640037e-01, 2.4512783e-03, 6.1402496e-02, 1.1980883e-05,\n",
       "       1.7745888e-02, 1.4743783e-02, 9.1027930e-02, 4.1934069e-02,\n",
       "       5.0688855e-06, 1.7886792e-01, 1.0777110e-06, 5.8639776e-03,\n",
       "       7.2416566e-07, 6.3848555e-02, 8.4323818e-07, 3.3014871e-02,\n",
       "       1.1697496e-01, 7.8345954e-02, 6.0882550e-03, 2.1258034e-02,\n",
       "       1.1970582e-05, 5.7195759e-09, 5.7195759e-09, 5.7195759e-09,\n",
       "       5.7195759e-09], dtype=float32)"
      ]
     },
     "execution_count": 16,
     "metadata": {},
     "output_type": "execute_result"
    }
   ],
   "source": [
    "predictions_softmaxed[0]"
   ]
  },
  {
   "cell_type": "code",
   "execution_count": 17,
   "metadata": {},
   "outputs": [],
   "source": [
    "#Sorting in decending order of scores\n",
    "predictions_arg_sorted = (-predictions).argsort()"
   ]
  },
  {
   "cell_type": "code",
   "execution_count": 18,
   "metadata": {},
   "outputs": [
    {
     "data": {
      "text/plain": [
       "(7983, 25)"
      ]
     },
     "execution_count": 18,
     "metadata": {},
     "output_type": "execute_result"
    }
   ],
   "source": [
    "predictions_arg_sorted.shape"
   ]
  },
  {
   "cell_type": "code",
   "execution_count": 19,
   "metadata": {},
   "outputs": [
    {
     "data": {
      "text/plain": [
       "array([ 0,  9, 16,  6, 17, 13,  2,  7, 15, 19,  4,  5, 18, 11,  1,  3, 20,\n",
       "        8, 10, 14, 12, 21, 22, 23, 24])"
      ]
     },
     "execution_count": 19,
     "metadata": {},
     "output_type": "execute_result"
    }
   ],
   "source": [
    "predictions_arg_sorted[0]"
   ]
  },
  {
   "cell_type": "markdown",
   "metadata": {},
   "source": [
    "Avg number of sentences per passage in coqa = 15"
   ]
  },
  {
   "cell_type": "code",
   "execution_count": 20,
   "metadata": {},
   "outputs": [
    {
     "name": "stdout",
     "output_type": "stream",
     "text": [
      "1\n",
      "25\n"
     ]
    }
   ],
   "source": [
    "print(min(dev_data['turn_ids']))\n",
    "print(max(dev_data['turn_ids']))"
   ]
  },
  {
   "cell_type": "markdown",
   "metadata": {},
   "source": [
    "Turn IDs start from 1. Convert them to 0 based by subtracting 1 to save pain later"
   ]
  },
  {
   "cell_type": "code",
   "execution_count": 21,
   "metadata": {},
   "outputs": [],
   "source": [
    "zero_based_turn_id = [t-1 for t in dev_data['turn_ids']]"
   ]
  },
  {
   "cell_type": "code",
   "execution_count": 22,
   "metadata": {},
   "outputs": [
    {
     "name": "stdout",
     "output_type": "stream",
     "text": [
      "0\n",
      "24\n"
     ]
    }
   ],
   "source": [
    "print(min(zero_based_turn_id))\n",
    "print(max(zero_based_turn_id))"
   ]
  },
  {
   "cell_type": "code",
   "execution_count": 23,
   "metadata": {},
   "outputs": [],
   "source": [
    "turn_id_buckets = [[] for i in range(max(zero_based_turn_id) + 1)]"
   ]
  },
  {
   "cell_type": "code",
   "execution_count": 24,
   "metadata": {},
   "outputs": [
    {
     "data": {
      "text/plain": [
       "25"
      ]
     },
     "execution_count": 24,
     "metadata": {},
     "output_type": "execute_result"
    }
   ],
   "source": [
    "len(turn_id_buckets)"
   ]
  },
  {
   "cell_type": "markdown",
   "metadata": {},
   "source": [
    "Segregate data indices into buckets based on turn ID"
   ]
  },
  {
   "cell_type": "code",
   "execution_count": 25,
   "metadata": {},
   "outputs": [],
   "source": [
    "for i,t_id in enumerate(zero_based_turn_id):\n",
    "    turn_id_buckets[t_id].append(i)"
   ]
  },
  {
   "cell_type": "markdown",
   "metadata": {},
   "source": [
    "# Recall@k"
   ]
  },
  {
   "cell_type": "raw",
   "metadata": {},
   "source": [
    "Code in the other notebook"
   ]
  },
  {
   "cell_type": "raw",
   "metadata": {},
   "source": [
    "k: 1, acc:0.5891268946511337\n",
    "k: 2, acc:0.7315545534260303\n",
    "k: 3, acc:0.8064637354378054\n",
    "k: 4, acc:0.8558186145559313\n",
    "k: 5, acc:0.8853814355505449\n",
    "k: 6, acc:0.9096830765376425\n",
    "k: 7, acc:0.9301014656144306\n",
    "k: 8, acc:0.9433796818238758\n",
    "k: 9, acc:0.9545283727921834\n",
    "k: 10, acc:0.9629212075660779\n",
    "k: 11, acc:0.9711887761493173\n",
    "k: 12, acc:0.9763246899661782\n",
    "k: 13, acc:0.9808342728297632\n",
    "k: 14, acc:0.9853438556933484\n",
    "k: 15, acc:0.9875986471251409\n",
    "k: 16, acc:0.9906050357008643\n",
    "k: 17, acc:0.9926092947513466"
   ]
  },
  {
   "cell_type": "markdown",
   "metadata": {},
   "source": [
    "## Turn_ID vs number of questions"
   ]
  },
  {
   "cell_type": "code",
   "execution_count": 26,
   "metadata": {},
   "outputs": [],
   "source": [
    "turn_vs_count_df = pd.DataFrame(data={\"Turn_ID\":list(range(max(zero_based_turn_id) + 1)), \n",
    "                                      \"Number_of_questions\":[len(x) for x in turn_id_buckets]})"
   ]
  },
  {
   "cell_type": "code",
   "execution_count": 27,
   "metadata": {},
   "outputs": [
    {
     "data": {
      "text/html": [
       "<div>\n",
       "<style scoped>\n",
       "    .dataframe tbody tr th:only-of-type {\n",
       "        vertical-align: middle;\n",
       "    }\n",
       "\n",
       "    .dataframe tbody tr th {\n",
       "        vertical-align: top;\n",
       "    }\n",
       "\n",
       "    .dataframe thead th {\n",
       "        text-align: right;\n",
       "    }\n",
       "</style>\n",
       "<table border=\"1\" class=\"dataframe\">\n",
       "  <thead>\n",
       "    <tr style=\"text-align: right;\">\n",
       "      <th></th>\n",
       "      <th>Turn_ID</th>\n",
       "      <th>Number_of_questions</th>\n",
       "    </tr>\n",
       "  </thead>\n",
       "  <tbody>\n",
       "    <tr>\n",
       "      <th>0</th>\n",
       "      <td>0</td>\n",
       "      <td>500</td>\n",
       "    </tr>\n",
       "    <tr>\n",
       "      <th>1</th>\n",
       "      <td>1</td>\n",
       "      <td>500</td>\n",
       "    </tr>\n",
       "    <tr>\n",
       "      <th>2</th>\n",
       "      <td>2</td>\n",
       "      <td>500</td>\n",
       "    </tr>\n",
       "    <tr>\n",
       "      <th>3</th>\n",
       "      <td>3</td>\n",
       "      <td>500</td>\n",
       "    </tr>\n",
       "    <tr>\n",
       "      <th>4</th>\n",
       "      <td>4</td>\n",
       "      <td>500</td>\n",
       "    </tr>\n",
       "  </tbody>\n",
       "</table>\n",
       "</div>"
      ],
      "text/plain": [
       "   Turn_ID  Number_of_questions\n",
       "0        0                  500\n",
       "1        1                  500\n",
       "2        2                  500\n",
       "3        3                  500\n",
       "4        4                  500"
      ]
     },
     "execution_count": 27,
     "metadata": {},
     "output_type": "execute_result"
    }
   ],
   "source": [
    "turn_vs_count_df.head()"
   ]
  },
  {
   "cell_type": "code",
   "execution_count": 28,
   "metadata": {},
   "outputs": [
    {
     "data": {
      "text/plain": [
       "<seaborn.axisgrid.FacetGrid at 0x7f19708d19e8>"
      ]
     },
     "execution_count": 28,
     "metadata": {},
     "output_type": "execute_result"
    },
    {
     "data": {
      "image/png": "[encoded data removed]",
      "text/plain": [
       "<Figure size 432x216 with 1 Axes>"
      ]
     },
     "metadata": {
      "needs_background": "light"
     },
     "output_type": "display_data"
    }
   ],
   "source": [
    "sns.catplot(x=\"Turn_ID\", y=\"Number_of_questions\", kind='bar', data=turn_vs_count_df, height=3, aspect=2)"
   ]
  },
  {
   "cell_type": "markdown",
   "metadata": {},
   "source": [
    "## Turn_ID vs Accuracy"
   ]
  },
  {
   "cell_type": "code",
   "execution_count": 29,
   "metadata": {},
   "outputs": [],
   "source": [
    "turn_vs_accuracy = []\n",
    "for bucket in turn_id_buckets:\n",
    "    num_correct = 0\n",
    "    bucket_size = len(bucket)\n",
    "    for data_index in bucket:\n",
    "        if(predictions_arg_sorted[data_index][0] == gt_classes[data_index]):\n",
    "            num_correct += 1\n",
    "    turn_vs_accuracy.append(num_correct/bucket_size)"
   ]
  },
  {
   "cell_type": "code",
   "execution_count": 30,
   "metadata": {},
   "outputs": [],
   "source": [
    "turn_vs_accuracy_df = pd.DataFrame(data={\"Turn_ID\":list(range(max(zero_based_turn_id) + 1)), \n",
    "                                      \"Accuracy\":turn_vs_accuracy})"
   ]
  },
  {
   "cell_type": "code",
   "execution_count": 31,
   "metadata": {},
   "outputs": [
    {
     "data": {
      "text/plain": [
       "<seaborn.axisgrid.FacetGrid at 0x7f196d08dbe0>"
      ]
     },
     "execution_count": 31,
     "metadata": {},
     "output_type": "execute_result"
    },
    {
     "data": {
      "image/png": "[encoded data removed]",
      "text/plain": [
       "<Figure size 432x216 with 1 Axes>"
      ]
     },
     "metadata": {
      "needs_background": "light"
     },
     "output_type": "display_data"
    }
   ],
   "source": [
    "sns.catplot(x=\"Turn_ID\", y=\"Accuracy\", kind='bar', data=turn_vs_accuracy_df, height=3, aspect=2)"
   ]
  },
  {
   "cell_type": "markdown",
   "metadata": {},
   "source": [
    "## Turn_ID vs answer ranks"
   ]
  },
  {
   "cell_type": "code",
   "execution_count": 32,
   "metadata": {},
   "outputs": [],
   "source": [
    "answer_ranks = []\n",
    "for i,gt in enumerate(gt_classes):\n",
    "    rank = predictions_arg_sorted[i].tolist().index(gt)\n",
    "    answer_ranks.append(rank)\n",
    "assert(len(answer_ranks) == len(zero_based_turn_id))"
   ]
  },
  {
   "cell_type": "code",
   "execution_count": 33,
   "metadata": {},
   "outputs": [],
   "source": [
    "turn_vs_ans_rank_df = pd.DataFrame(data={\"Turn_ID\":zero_based_turn_id, \"Answer_rank\":answer_ranks})"
   ]
  },
  {
   "cell_type": "code",
   "execution_count": 34,
   "metadata": {},
   "outputs": [
    {
     "data": {
      "text/plain": [
       "<seaborn.axisgrid.FacetGrid at 0x7f196d082a90>"
      ]
     },
     "execution_count": 34,
     "metadata": {},
     "output_type": "execute_result"
    },
    {
     "data": {
      "image/png": "[encoded data removed]",
      "text/plain": [
       "<Figure size 1080x360 with 1 Axes>"
      ]
     },
     "metadata": {
      "needs_background": "light"
     },
     "output_type": "display_data"
    }
   ],
   "source": [
    "sns.catplot(x=\"Turn_ID\", y=\"Answer_rank\", kind='boxen', data=turn_vs_ans_rank_df, height=5, aspect=3)"
   ]
  },
  {
   "cell_type": "markdown",
   "metadata": {},
   "source": [
    "## Turd_ID vs mean answer rank"
   ]
  },
  {
   "cell_type": "code",
   "execution_count": 35,
   "metadata": {},
   "outputs": [],
   "source": [
    "mean_ans_ranks = []\n",
    "for bucket in turn_id_buckets:\n",
    "    ranks = []\n",
    "    for data_index in bucket:\n",
    "        ranks.append(answer_ranks[data_index])\n",
    "    mean_rank = np.array(ranks).mean()\n",
    "    mean_ans_ranks.append(mean_rank)"
   ]
  },
  {
   "cell_type": "code",
   "execution_count": 36,
   "metadata": {},
   "outputs": [],
   "source": [
    "turn_vs_mean_ans_rank_df = pd.DataFrame(data={\"Turn_ID\":list(range(max(zero_based_turn_id) + 1)), \"Mean_answer_rank\":mean_ans_ranks})"
   ]
  },
  {
   "cell_type": "code",
   "execution_count": 37,
   "metadata": {},
   "outputs": [
    {
     "data": {
      "text/plain": [
       "<seaborn.axisgrid.FacetGrid at 0x7f196d02ca58>"
      ]
     },
     "execution_count": 37,
     "metadata": {},
     "output_type": "execute_result"
    },
    {
     "data": {
      "image/png": "[encoded data removed]",
      "text/plain": [
       "<Figure size 432x216 with 1 Axes>"
      ]
     },
     "metadata": {
      "needs_background": "light"
     },
     "output_type": "display_data"
    }
   ],
   "source": [
    "sns.catplot(x=\"Turn_ID\", y=\"Mean_answer_rank\", kind='point', data=turn_vs_mean_ans_rank_df, height=3, aspect=2)"
   ]
  },
  {
   "cell_type": "markdown",
   "metadata": {},
   "source": [
    "Vertical lines = confidence intervals (0.95)"
   ]
  },
  {
   "cell_type": "code",
   "execution_count": 38,
   "metadata": {},
   "outputs": [
    {
     "name": "stderr",
     "output_type": "stream",
     "text": [
      "/home/bhargav/anaconda3/lib/python3.6/site-packages/scipy/stats/stats.py:1713: FutureWarning: Using a non-tuple sequence for multidimensional indexing is deprecated; use `arr[tuple(seq)]` instead of `arr[seq]`. In the future this will be interpreted as an array index, `arr[np.array(seq)]`, which will result either in an error or a different result.\n",
      "  return np.add.reduce(sorted[indexer] * weights, axis=axis) / sumval\n"
     ]
    },
    {
     "data": {
      "text/plain": [
       "<seaborn.axisgrid.FacetGrid at 0x7f196ce325f8>"
      ]
     },
     "execution_count": 38,
     "metadata": {},
     "output_type": "execute_result"
    },
    {
     "data": {
      "image/png": "[encoded data removed]",
      "text/plain": [
       "<Figure size 1080x360 with 1 Axes>"
      ]
     },
     "metadata": {
      "needs_background": "light"
     },
     "output_type": "display_data"
    }
   ],
   "source": [
    "sns.catplot(x=\"Turn_ID\", y=\"Answer_rank\", kind='point', data=turn_vs_ans_rank_df, height=5, aspect=3)"
   ]
  },
  {
   "cell_type": "markdown",
   "metadata": {},
   "source": [
    "Vertical lines = standard deviation"
   ]
  },
  {
   "cell_type": "code",
   "execution_count": 39,
   "metadata": {},
   "outputs": [
    {
     "data": {
      "text/plain": [
       "<seaborn.axisgrid.FacetGrid at 0x7f196d02c320>"
      ]
     },
     "execution_count": 39,
     "metadata": {},
     "output_type": "execute_result"
    },
    {
     "data": {
      "image/png": "[encoded data removed]",
      "text/plain": [
       "<Figure size 1080x360 with 1 Axes>"
      ]
     },
     "metadata": {
      "needs_background": "light"
     },
     "output_type": "display_data"
    }
   ],
   "source": [
    "sns.catplot(x=\"Turn_ID\", y=\"Answer_rank\", kind='point', data=turn_vs_ans_rank_df, height=5, aspect=3, ci='sd')"
   ]
  },
  {
   "cell_type": "code",
   "execution_count": 40,
   "metadata": {},
   "outputs": [],
   "source": [
    "grouped_ranks = []\n",
    "for rank in answer_ranks:\n",
    "    cat = \"Other\"\n",
    "    if(rank == 0):\n",
    "        cat = \"0\"\n",
    "    elif(rank == 1):\n",
    "        cat = \"1\"\n",
    "    elif(rank == 2):\n",
    "        cat = \"2\"\n",
    "    elif(rank == 3):\n",
    "        cat = \"3\"\n",
    "    grouped_ranks.append(cat)"
   ]
  },
  {
   "cell_type": "code",
   "execution_count": 41,
   "metadata": {},
   "outputs": [],
   "source": [
    "turn_vs_rank_cat = [[] for i in range(max(zero_based_turn_id) + 1)]\n",
    "for i,rank in enumerate(grouped_ranks):\n",
    "    turn_id = zero_based_turn_id[i]\n",
    "    turn_vs_rank_cat[turn_id].append(rank)\n",
    "    "
   ]
  },
  {
   "cell_type": "code",
   "execution_count": 42,
   "metadata": {},
   "outputs": [],
   "source": [
    "t_ids = []\n",
    "rank_categories = []\n",
    "fractions = []\n",
    "for i,bucket in enumerate(turn_vs_rank_cat):\n",
    "    unique, counts = np.unique(bucket, return_counts=True)\n",
    "    frac = dict(zip(unique, counts/len(bucket)))\n",
    "#     print(\"==============\")\n",
    "#     print(i,frac)\n",
    "#     print(\"==============\")\n",
    "    for key,value in frac.items():\n",
    "        t_ids.append(i)\n",
    "        rank_categories.append(key)\n",
    "        fractions.append(value)\n",
    "        \n",
    "assert(len(t_ids) == len(rank_categories) == len(fractions))"
   ]
  },
  {
   "cell_type": "code",
   "execution_count": 43,
   "metadata": {},
   "outputs": [
    {
     "name": "stdout",
     "output_type": "stream",
     "text": [
      "[0, 0, 0, 0, 0, 1, 1, 1, 1, 1]\n",
      "['0', '1', '2', '3', 'Other', '0', '1', '2', '3', 'Other']\n",
      "[0.688, 0.132, 0.064, 0.032, 0.084, 0.638, 0.12, 0.07, 0.042, 0.13]\n"
     ]
    }
   ],
   "source": [
    "print(t_ids[:10])\n",
    "print(rank_categories[:10])\n",
    "print(fractions[:10])"
   ]
  },
  {
   "cell_type": "code",
   "execution_count": 44,
   "metadata": {},
   "outputs": [],
   "source": [
    "turn_vs_rank_cat_df = pd.DataFrame(data={'Turn_ID':t_ids, 'Rank_categories':rank_categories, 'Fractions':fractions})"
   ]
  },
  {
   "cell_type": "code",
   "execution_count": 45,
   "metadata": {},
   "outputs": [
    {
     "data": {
      "text/plain": [
       "<seaborn.axisgrid.FacetGrid at 0x7f196cad9160>"
      ]
     },
     "execution_count": 45,
     "metadata": {},
     "output_type": "execute_result"
    },
    {
     "data": {
      "image/png": "[encoded data removed]",
      "text/plain": [
       "<Figure size 1386.5x432 with 1 Axes>"
      ]
     },
     "metadata": {
      "needs_background": "light"
     },
     "output_type": "display_data"
    }
   ],
   "source": [
    "p = sns.catplot(x=\"Turn_ID\", y=\"Fractions\", hue=\"Rank_categories\", data=turn_vs_rank_cat_df,\n",
    "                height=6, aspect=3, kind=\"bar\", palette=\"Paired\", hue_order=['0','1','2','3','Other'])\n",
    "p.set_ylabels(\"Fraction of questions who's true answer has rank 'k'\")"
   ]
  },
  {
   "cell_type": "markdown",
   "metadata": {},
   "source": [
    "# Examining sentence scores"
   ]
  },
  {
   "cell_type": "code",
   "execution_count": 46,
   "metadata": {},
   "outputs": [],
   "source": [
    "# considering only the first 20 turns because after that answer_ranks[index] > 1 isn't true for all questions \n",
    "# for some turn_id > 20\n",
    "\n",
    "avg_first_minus_second_rank0 = []\n",
    "avg_first_minus_second_rank1 = []\n",
    "\n",
    "for i in range(20):\n",
    "    bucket = turn_id_buckets[i]\n",
    "    score_differences_correct = []\n",
    "    score_differences_incorrect = []\n",
    "    for index in bucket:\n",
    "        if(answer_ranks[index] > 1):\n",
    "            continue\n",
    "        s0_index = predictions_arg_sorted[index][0]\n",
    "        s1_index = predictions_arg_sorted[index][1]\n",
    "        s0 = predictions_softmaxed[index][s0_index]\n",
    "        s1 = predictions_softmaxed[index][s1_index]\n",
    "        difference = s0 - s1\n",
    "        if(answer_ranks[index] == 0):\n",
    "            score_differences_correct.append(difference)\n",
    "        elif(answer_ranks[index] == 1):\n",
    "            score_differences_incorrect.append(difference)\n",
    "    \n",
    "    if(len(score_differences_correct) != 0 and len(score_differences_incorrect) != 0):\n",
    "        avg_difference_correct = np.mean(score_differences_correct)\n",
    "        avg_difference_incorrect = np.mean(score_differences_incorrect)\n",
    "        \n",
    "        avg_first_minus_second_rank0.append(avg_difference_correct)\n",
    "        avg_first_minus_second_rank1.append(avg_difference_incorrect)\n",
    "    else:\n",
    "        print(\"Skipped turn_id:{}\".format(i))\n",
    "        continue\n",
    "    \n",
    "    \n"
   ]
  },
  {
   "cell_type": "markdown",
   "metadata": {},
   "source": [
    "## Difference in scores between the first and the second ranked sentences when the ture answer is in first rank"
   ]
  },
  {
   "cell_type": "code",
   "execution_count": 47,
   "metadata": {},
   "outputs": [],
   "source": [
    "turn_vs_relative_diff_correct_df = pd.DataFrame(data={'Turn_ID':list(range(20)), 'Mean_Score_Differences':avg_first_minus_second_rank0})"
   ]
  },
  {
   "cell_type": "code",
   "execution_count": 48,
   "metadata": {},
   "outputs": [
    {
     "data": {
      "text/plain": [
       "<seaborn.axisgrid.FacetGrid at 0x7f196cc8d978>"
      ]
     },
     "execution_count": 48,
     "metadata": {},
     "output_type": "execute_result"
    },
    {
     "data": {
      "image/png": "[encoded data removed]",
      "text/plain": [
       "<Figure size 720x360 with 1 Axes>"
      ]
     },
     "metadata": {
      "needs_background": "light"
     },
     "output_type": "display_data"
    }
   ],
   "source": [
    "sns.catplot(x=\"Turn_ID\", y=\"Mean_Score_Differences\", kind='point', data=turn_vs_relative_diff_correct_df, height=5, aspect=2)"
   ]
  },
  {
   "cell_type": "markdown",
   "metadata": {},
   "source": [
    "## Difference in scores between the first and the second ranked sentences when the ture answer is in second rank"
   ]
  },
  {
   "cell_type": "code",
   "execution_count": 49,
   "metadata": {},
   "outputs": [],
   "source": [
    "turn_vs_relative_diff_incorrect_df = pd.DataFrame(data={'Turn_ID':list(range(20)), 'Mean_Score_Differences':avg_first_minus_second_rank1})"
   ]
  },
  {
   "cell_type": "code",
   "execution_count": 50,
   "metadata": {},
   "outputs": [
    {
     "data": {
      "text/plain": [
       "<seaborn.axisgrid.FacetGrid at 0x7f196c5a0f60>"
      ]
     },
     "execution_count": 50,
     "metadata": {},
     "output_type": "execute_result"
    },
    {
     "data": {
      "image/png": "[encoded data removed]",
      "text/plain": [
       "<Figure size 720x360 with 1 Axes>"
      ]
     },
     "metadata": {
      "needs_background": "light"
     },
     "output_type": "display_data"
    }
   ],
   "source": [
    "sns.catplot(x=\"Turn_ID\", y=\"Mean_Score_Differences\", kind='point', data=turn_vs_relative_diff_incorrect_df, height=5, aspect=2)"
   ]
  },
  {
   "cell_type": "markdown",
   "metadata": {},
   "source": [
    "## By how much was the first rank missed?"
   ]
  },
  {
   "cell_type": "code",
   "execution_count": 51,
   "metadata": {},
   "outputs": [],
   "source": [
    "score_differences = []\n",
    "for index in range(len(predictions_softmaxed)):\n",
    "    ans_rank = answer_ranks[index]\n",
    "    if(ans_rank == 0):\n",
    "        score_differences.append(0)\n",
    "    else:\n",
    "        s0_index = predictions_arg_sorted[index][0]\n",
    "        sk_index = predictions_arg_sorted[index][ans_rank]\n",
    "        s0 = predictions_softmaxed[index][s0_index]\n",
    "        sk = predictions_softmaxed[index][sk_index]\n",
    "        difference = s0 - sk\n",
    "        score_differences.append(difference)"
   ]
  },
  {
   "cell_type": "code",
   "execution_count": 52,
   "metadata": {},
   "outputs": [
    {
     "data": {
      "text/plain": [
       "[0, 0, 0.39256772, 0, 0, 0.74679303, 0.18555348, 0, 0.20258713, 0.5392049]"
      ]
     },
     "execution_count": 52,
     "metadata": {},
     "output_type": "execute_result"
    }
   ],
   "source": [
    "score_differences[:10]"
   ]
  },
  {
   "cell_type": "code",
   "execution_count": 53,
   "metadata": {},
   "outputs": [],
   "source": [
    "turn_vs_avg_score_differences_incorrect = []\n",
    "for bucket in turn_id_buckets[:20]:\n",
    "    scores = []\n",
    "    for index in bucket:\n",
    "        if(answer_ranks[index] != 0):\n",
    "            scores.append(score_differences[index])\n",
    "    mean_diff = np.mean(scores)\n",
    "    turn_vs_avg_score_differences_incorrect.append(mean_diff)"
   ]
  },
  {
   "cell_type": "code",
   "execution_count": 54,
   "metadata": {},
   "outputs": [],
   "source": [
    "turn_vs_avg_score_differences_incorrect_df = pd.DataFrame(data={'Turn_ID':list(range(20)), 'Mean_Score_Differences':turn_vs_avg_score_differences_incorrect})"
   ]
  },
  {
   "cell_type": "code",
   "execution_count": 55,
   "metadata": {},
   "outputs": [
    {
     "data": {
      "text/plain": [
       "<seaborn.axisgrid.FacetGrid at 0x7f196c8d6ac8>"
      ]
     },
     "execution_count": 55,
     "metadata": {},
     "output_type": "execute_result"
    },
    {
     "data": {
      "image/png": "[encoded data removed]",
      "text/plain": [
       "<Figure size 720x360 with 1 Axes>"
      ]
     },
     "metadata": {
      "needs_background": "light"
     },
     "output_type": "display_data"
    }
   ],
   "source": [
    "sns.catplot(x=\"Turn_ID\", y=\"Mean_Score_Differences\", kind='point', data=turn_vs_avg_score_differences_incorrect_df, \n",
    "            height=5, aspect=2)"
   ]
  },
  {
   "cell_type": "markdown",
   "metadata": {},
   "source": [
    "# Examples"
   ]
  },
  {
   "cell_type": "code",
   "execution_count": 56,
   "metadata": {},
   "outputs": [],
   "source": [
    "text_data = unpickler(in_pkl_path, \"../data/coqa/dataset_formatted_dev.pkl\")"
   ]
  },
  {
   "cell_type": "code",
   "execution_count": 57,
   "metadata": {},
   "outputs": [
    {
     "data": {
      "text/plain": [
       "dict_keys(['passages', 'questions', 'answer_spans', 'answer_sentences', 'data_points', 'turn_ids', 'histories'])"
      ]
     },
     "execution_count": 57,
     "metadata": {},
     "output_type": "execute_result"
    }
   ],
   "source": [
    "text_data.keys()"
   ]
  },
  {
   "cell_type": "code",
   "execution_count": 58,
   "metadata": {},
   "outputs": [],
   "source": [
    "def get_formatted_example(data, predictions, index):\n",
    "    passage_id, question_id, prev_qa_ids = data[\"data_points\"][index]\n",
    "    scores = predictions[index]\n",
    "    turn_id = data[\"turn_ids\"][index]\n",
    "    passage_sents = []\n",
    "    for i in range(len(data[\"passages\"][passage_id])):\n",
    "        if(i < len(scores)):\n",
    "            sent = [scores[i]]+[\" \".join(data[\"passages\"][passage_id][i])]\n",
    "        else:\n",
    "            sent = [\"---Truncated---\"]+[\" \".join(data[\"passages\"][passage_id][i])]\n",
    "        passage_sents.append(sent)\n",
    "    current_question = \" \".join(data[\"questions\"][question_id])\n",
    "    current_correct_answer = \" \".join(data[\"answer_spans\"][question_id])\n",
    "    current_prediction = passage_sents[np.argmax(predictions[index])]\n",
    "    \n",
    "    question_i_1 = \" \".join(data[\"questions\"][prev_qa_ids[-1]])\n",
    "    correct_answer_i_1 = \" \".join(data[\"answer_spans\"][prev_qa_ids[-1]])\n",
    "    prediction_i_1 = passage_sents[np.argmax(predictions[index-1])][1]\n",
    "        \n",
    "    question_i_2 = \" \".join(data[\"questions\"][prev_qa_ids[-2]])\n",
    "    correct_answer_i_2 = \" \".join(data[\"answer_spans\"][prev_qa_ids[-2]])\n",
    "    prediction_i_2 = passage_sents[np.argmax(predictions[index-2])][1]\n",
    "\n",
    "    \n",
    "    print(\"====== Passage (id:{}) ======\".format(passage_id))\n",
    "    for sent in passage_sents:\n",
    "        print(sent)\n",
    "    print()\n",
    "    if(turn_id > 2):\n",
    "        print(\"====== History i-2 ======\")\n",
    "        print(\"Question: \")\n",
    "        print(question_i_2)\n",
    "        print()\n",
    "        print(\"True answer: \")\n",
    "        print(correct_answer_i_2)\n",
    "        print()\n",
    "        print(\"Prediction: \")\n",
    "        print(prediction_i_2)\n",
    "        print()\n",
    "    if(turn_id > 1):\n",
    "        print(\"====== History i-1 ======\")\n",
    "        print(\"Question: \")\n",
    "        print(question_i_1)\n",
    "        print()\n",
    "        print(\"True answer: \")\n",
    "        print(correct_answer_i_1)\n",
    "        print()\n",
    "        print(\"Prediction: \")\n",
    "        print(prediction_i_1)\n",
    "        print()\n",
    "    print(\"====== Current turn. Turn_ID:{} ======\".format(turn_id))\n",
    "    print(\"Question: \")\n",
    "    print(current_question)\n",
    "    print()\n",
    "    print(\"True answer: \")\n",
    "    print(current_correct_answer)\n",
    "    print()\n",
    "    print(\"Prediction: \")\n",
    "    print(current_prediction)\n",
    "    print()"
   ]
  },
  {
   "cell_type": "markdown",
   "metadata": {},
   "source": [
    "## Incorrect with highest score difference"
   ]
  },
  {
   "cell_type": "code",
   "execution_count": 59,
   "metadata": {},
   "outputs": [],
   "source": [
    "index = np.argmax(score_differences)"
   ]
  },
  {
   "cell_type": "code",
   "execution_count": 60,
   "metadata": {},
   "outputs": [
    {
     "data": {
      "text/plain": [
       "0.9999338"
      ]
     },
     "execution_count": 60,
     "metadata": {},
     "output_type": "execute_result"
    }
   ],
   "source": [
    "score_differences[index]"
   ]
  },
  {
   "cell_type": "code",
   "execution_count": 61,
   "metadata": {},
   "outputs": [
    {
     "name": "stdout",
     "output_type": "stream",
     "text": [
      "====== Passage (id:286) ======\n",
      "[1.6266033e-06, 'the russian soviet federative socialist republic russian sfsr or rsfsr russian российская советская федеративная социалистическая республика , tr .']\n",
      "[2.1095934e-06, 'rossiyskaya sovetskaya federativnaya sotsialisticheskaya respublika listen help·info commonly referred to as soviet russia or simply as russia , was a sovereign state in 1917–22 , the largest , most populous , and most economically developed republic of the soviet union in 1922–91 and a sovereign part of the soviet union with its own legislation in 1990–91 .']\n",
      "[0.99996483, 'the republic comprised sixteen autonomous republics , five autonomous oblasts , ten autonomous okrugs , six krais , and forty oblasts .']\n",
      "[2.429124e-07, 'russians formed the largest ethnic group .']\n",
      "[1.5229277e-07, 'to the west it bordered finland , norway and poland and to the south , china , mongolia and north korea whilst bordering the arctic ocean to the north , the pacific ocean to the east and the black sea and caspian sea to the south .']\n",
      "[3.1066305e-05, 'within the ussr , it bordered the baltic republics lithuania , latvia and estonia , the byelorussian ssr and the ukrainian ssr to the west .']\n",
      "[1.9086851e-08, 'to the south it bordered the georgian , azerbaijan and kazakh ssrs .']\n",
      "\n",
      "====== History i-2 ======\n",
      "Question: \n",
      "what area does china border ?\n",
      "\n",
      "True answer: \n",
      "to the west it bordered finland , norway and poland and to the south , china , mongolia and north korea whilst bordering the arctic ocean to the north , the pacific ocean to the east and the black sea and caspian sea to the south .\n",
      "\n",
      "Prediction: \n",
      "the republic comprised sixteen autonomous republics , five autonomous oblasts , ten autonomous okrugs , six krais , and forty oblasts .\n",
      "\n",
      "====== History i-1 ======\n",
      "Question: \n",
      "how many oblasts is it made of ?\n",
      "\n",
      "True answer: \n",
      "the republic comprised sixteen autonomous republics , five autonomous oblasts , ten autonomous okrugs , six krais , and forty oblasts .\n",
      "\n",
      "Prediction: \n",
      "to the west it bordered finland , norway and poland and to the south , china , mongolia and north korea whilst bordering the arctic ocean to the north , the pacific ocean to the east and the black sea and caspian sea to the south .\n",
      "\n",
      "====== Current turn. Turn_ID:11 ======\n",
      "Question: \n",
      "how many baltic republics ?\n",
      "\n",
      "True answer: \n",
      "within the ussr , it bordered the baltic republics lithuania , latvia and estonia , the byelorussian ssr and the ukrainian ssr to the west .\n",
      "\n",
      "Prediction: \n",
      "[0.99996483, 'the republic comprised sixteen autonomous republics , five autonomous oblasts , ten autonomous okrugs , six krais , and forty oblasts .']\n",
      "\n"
     ]
    }
   ],
   "source": [
    "get_formatted_example(data=text_data,predictions=predictions_softmaxed, index=index)"
   ]
  },
  {
   "cell_type": "markdown",
   "metadata": {},
   "source": [
    "## Incorrect with lowest score difference"
   ]
  },
  {
   "cell_type": "code",
   "execution_count": 62,
   "metadata": {},
   "outputs": [],
   "source": [
    "fake_score_differences = []"
   ]
  },
  {
   "cell_type": "code",
   "execution_count": 63,
   "metadata": {},
   "outputs": [],
   "source": [
    "for item in score_differences:\n",
    "    if item < 1e-40:\n",
    "        fake_score_differences.append(999)\n",
    "    else:\n",
    "        fake_score_differences.append(item)"
   ]
  },
  {
   "cell_type": "code",
   "execution_count": 64,
   "metadata": {},
   "outputs": [],
   "source": [
    "index = np.argmin(fake_score_differences)"
   ]
  },
  {
   "cell_type": "code",
   "execution_count": 65,
   "metadata": {},
   "outputs": [
    {
     "data": {
      "text/plain": [
       "4.659593e-05"
      ]
     },
     "execution_count": 65,
     "metadata": {},
     "output_type": "execute_result"
    }
   ],
   "source": [
    "fake_score_differences[index]"
   ]
  },
  {
   "cell_type": "code",
   "execution_count": 66,
   "metadata": {},
   "outputs": [
    {
     "name": "stdout",
     "output_type": "stream",
     "text": [
      "====== Passage (id:367) ======\n",
      "[0.16183846, 'chapter xxiii a slide down the mountain side my gracious , dick it sure is snowing some now yes , and it is getting colder every minute .']\n",
      "[0.07266344, \"if we do n't get out of the mountains putty quick we 'll be snowed in , came from jack wumble .\"]\n",
      "[0.030047962, 'did you calkerlate to git back to dawson afore winter sot in ?']\n",
      "[0.0022239697, 'inquired ike furner , curiously .']\n",
      "[0.009992634, 'why of course cried sam .']\n",
      "[0.013749057, \"i do n't see how you are goin' to make it .\"]\n",
      "[0.011011956, 'oh , we must get back , said dick .']\n",
      "[0.008093914, 'if only we could find tom , he added , with a sigh .']\n",
      "[0.015427057, 'it was fully an hour after they had left the campfire at the entrance to the cave of the mountain .']\n",
      "[0.04382371, 'they had walked to the chasm where they thought tom might have had a tumble and crossed and recrossed it several times .']\n",
      "[0.035822626, 'but they had found no traces of the missing rover boy .']\n",
      "[0.038611013, 'if only we knew whether he went down in that opening said sam , for at least the tenth time .']\n",
      "[0.0053024264, 'dick , do you suppose we can climb down into it ?']\n",
      "[0.16179186, 'not without a rope , sam .']\n",
      "[0.013051608, 'the sides are too steep and slippery .']\n",
      "[0.0068723345, 'time and again they called down .']\n",
      "[0.006665392, 'but no answer came back .']\n",
      "[0.056846127, 'if tom was down there he was either unconscious or dead .']\n",
      "[0.050444435, 'and now it had begun to snow harder than ever .']\n",
      "[0.13056429, 'the air was so full of the white flakes that they could not see ten feet in any direction .']\n",
      "[0.0061001983, 'it was a typical alaskan snowstorm .']\n",
      "[0.11904947, 'there was a sweep to the wind that found the very marrow of their bones .']\n",
      "\n",
      "====== History i-2 ======\n",
      "Question: \n",
      "says who ?\n",
      "\n",
      "True answer: \n",
      "dick , do you suppose we can climb down into it ?\n",
      "\n",
      "Prediction: \n",
      "they had walked to the chasm where they thought tom might have had a tumble and crossed and recrossed it several times .\n",
      "\n",
      "====== History i-1 ======\n",
      "Question: \n",
      "can they ?\n",
      "\n",
      "True answer: \n",
      "not without a rope , sam .\n",
      "\n",
      "Prediction: \n",
      "chapter xxiii a slide down the mountain side my gracious , dick it sure is snowing some now yes , and it is getting colder every minute .\n",
      "\n",
      "====== Current turn. Turn_ID:18 ======\n",
      "Question: \n",
      "why not ?\n",
      "\n",
      "True answer: \n",
      "not without a rope , sam .\n",
      "\n",
      "Prediction: \n",
      "[0.16183846, 'chapter xxiii a slide down the mountain side my gracious , dick it sure is snowing some now yes , and it is getting colder every minute .']\n",
      "\n"
     ]
    }
   ],
   "source": [
    "get_formatted_example(data=text_data,predictions=predictions_softmaxed, index=index)"
   ]
  },
  {
   "cell_type": "markdown",
   "metadata": {},
   "source": [
    "## Correct prediction"
   ]
  },
  {
   "cell_type": "code",
   "execution_count": 67,
   "metadata": {},
   "outputs": [],
   "source": [
    "index = np.argmin(score_differences[3:]) + 3"
   ]
  },
  {
   "cell_type": "code",
   "execution_count": 68,
   "metadata": {},
   "outputs": [
    {
     "data": {
      "text/plain": [
       "3"
      ]
     },
     "execution_count": 68,
     "metadata": {},
     "output_type": "execute_result"
    }
   ],
   "source": [
    "index"
   ]
  },
  {
   "cell_type": "code",
   "execution_count": 69,
   "metadata": {},
   "outputs": [
    {
     "name": "stdout",
     "output_type": "stream",
     "text": [
      "====== Passage (id:0) ======\n",
      "[0.36899853, 'once upon a time , in a barn near a farm house , there lived a little white kitten named cotton .']\n",
      "[0.01995678, \"cotton lived high up in a nice warm place above the barn where all of the farmer 's horses slept .\"]\n",
      "[0.0027031195, \"but cotton was n't alone in her little home above the barn , oh no .\"]\n",
      "[0.5835154, 'she shared her hay bed with her mommy and 5 other sisters .']\n",
      "[0.001842711, 'all of her sisters were cute and fluffy , like cotton .']\n",
      "[0.00022601699, 'but she was the only white one in the bunch .']\n",
      "[0.0059579015, \"the rest of her sisters were all orange with beautiful white tiger stripes like cotton 's mommy .\"]\n",
      "[3.0543575e-05, 'being different made cotton quite sad .']\n",
      "[0.0016839108, 'she often wished she looked like the rest of her family .']\n",
      "[0.0013021813, \"so one day , when cotton found a can of the old farmer 's orange paint , she used it to paint herself like them .\"]\n",
      "[0.011622367, 'when her mommy and sisters found her they started laughing .']\n",
      "[8.4724816e-05, 'what are you doing , cotton ?']\n",
      "[2.2352147e-05, 'i only wanted to be more like you .']\n",
      "[2.8200817e-05, \"cotton 's mommy rubbed her face on cotton 's and said oh cotton , but your fur is so pretty and special , like you .\"]\n",
      "[1.5061535e-05, 'we would never want you to be any other way .']\n",
      "[0.00048393672, \"and with that , cotton 's mommy picked her up and dropped her into a big bucket of water .\"]\n",
      "[0.00014956808, 'when cotton came out she was herself again .']\n",
      "[0.0012888706, \"her sisters licked her face until cotton 's fur was all all dry .\"]\n",
      "[2.1309233e-05, \"do n't ever do that again , cotton they all cried .\"]\n",
      "[1.9634019e-05, \"next time you might mess up that pretty white fur of yours and we would n't want that then cotton thought , i change my mind .\"]\n",
      "[4.336839e-05, 'i like being special .']\n",
      "\n",
      "====== History i-2 ======\n",
      "Question: \n",
      "did she live alone ?\n",
      "\n",
      "True answer: \n",
      "but cotton was n't alone in her little home above the barn , oh no .\n",
      "\n",
      "Prediction: \n",
      "once upon a time , in a barn near a farm house , there lived a little white kitten named cotton .\n",
      "\n",
      "====== History i-1 ======\n",
      "Question: \n",
      "where did she live ?\n",
      "\n",
      "True answer: \n",
      "once upon a time , in a barn near a farm house , there lived a little white kitten named cotton .\n",
      "\n",
      "Prediction: \n",
      "once upon a time , in a barn near a farm house , there lived a little white kitten named cotton .\n",
      "\n",
      "====== Current turn. Turn_ID:4 ======\n",
      "Question: \n",
      "who did she live with ?\n",
      "\n",
      "True answer: \n",
      "she shared her hay bed with her mommy and 5 other sisters .\n",
      "\n",
      "Prediction: \n",
      "[0.5835154, 'she shared her hay bed with her mommy and 5 other sisters .']\n",
      "\n"
     ]
    }
   ],
   "source": [
    "get_formatted_example(data=text_data,predictions=predictions_softmaxed, index=index)"
   ]
  },
  {
   "cell_type": "code",
   "execution_count": null,
   "metadata": {},
   "outputs": [],
   "source": []
  }
 ],
 "metadata": {
  "kernelspec": {
   "display_name": "Python 3",
   "language": "python",
   "name": "python3"
  },
  "language_info": {
   "codemirror_mode": {
    "name": "ipython",
    "version": 3
   },
   "file_extension": ".py",
   "mimetype": "text/x-python",
   "name": "python",
   "nbconvert_exporter": "python",
   "pygments_lexer": "ipython3",
   "version": "3.6.6"
  }
 },
 "nbformat": 4,
 "nbformat_minor": 2
}
