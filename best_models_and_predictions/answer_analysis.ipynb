{
 "cells": [
  {
   "cell_type": "code",
   "execution_count": 1,
   "metadata": {},
   "outputs": [],
   "source": [
    "from collections import Counter\n",
    "import string\n",
    "import re\n",
    "import argparse\n",
    "import json\n",
    "import sys\n",
    "import numpy as np\n",
    "import nltk\n",
    "import random\n",
    "import math\n",
    "import os\n",
    "import pickle\n",
    "from tqdm import tqdm\n",
    "import seaborn as sns\n",
    "import pandas as pd\n",
    "import torch"
   ]
  },
  {
   "cell_type": "code",
   "execution_count": 2,
   "metadata": {},
   "outputs": [],
   "source": [
    "in_pkl_path = \"./\"\n",
    "pred_pkl_name = \"h2_predictions_no_tf.pkl\"\n",
    "gt_pkl_name = \"../data/coqa/preprocessed_dev_no_tf.pkl\""
   ]
  },
  {
   "cell_type": "code",
   "execution_count": 3,
   "metadata": {},
   "outputs": [],
   "source": [
    "def pickler(path,pkl_name,obj):\n",
    "    with open(os.path.join(path, pkl_name), 'wb') as f:\n",
    "        pickle.dump(obj, f, pickle.HIGHEST_PROTOCOL)\n",
    "\n",
    "def unpickler(path,pkl_name):\n",
    "    with open(os.path.join(path, pkl_name) ,'rb') as f:\n",
    "        obj = pickle.load(f)\n",
    "    return obj"
   ]
  },
  {
   "cell_type": "code",
   "execution_count": 4,
   "metadata": {},
   "outputs": [],
   "source": [
    "dev_data = unpickler(in_pkl_path,gt_pkl_name)"
   ]
  },
  {
   "cell_type": "code",
   "execution_count": 5,
   "metadata": {},
   "outputs": [
    {
     "data": {
      "text/plain": [
       "dict_keys(['passages_word', 'passages_char', 'questions_word', 'questions_char', 'answers_word', 'answers_char', 'histories_word', 'histories_char', 'supporting_facts', 'unpadded_question_lengths', 'unpadded_passage_lengths', 'unpadded_answer_lengths', 'data_points', 'turn_ids', 'questions_word_unpadded', 'questions_char_unpadded', 'separator_id'])"
      ]
     },
     "execution_count": 5,
     "metadata": {},
     "output_type": "execute_result"
    }
   ],
   "source": [
    "dev_data.keys()"
   ]
  },
  {
   "cell_type": "code",
   "execution_count": 6,
   "metadata": {},
   "outputs": [
    {
     "data": {
      "text/plain": [
       "25"
      ]
     },
     "execution_count": 6,
     "metadata": {},
     "output_type": "execute_result"
    }
   ],
   "source": [
    "len(dev_data['supporting_facts'][100])"
   ]
  },
  {
   "cell_type": "code",
   "execution_count": 7,
   "metadata": {},
   "outputs": [],
   "source": [
    "gt = dev_data[\"supporting_facts\"]"
   ]
  },
  {
   "cell_type": "code",
   "execution_count": 8,
   "metadata": {},
   "outputs": [
    {
     "data": {
      "text/plain": [
       "7983"
      ]
     },
     "execution_count": 8,
     "metadata": {},
     "output_type": "execute_result"
    }
   ],
   "source": [
    "len(gt)"
   ]
  },
  {
   "cell_type": "code",
   "execution_count": 9,
   "metadata": {},
   "outputs": [],
   "source": [
    "gt_classes = np.array(gt).argmax(axis=1)"
   ]
  },
  {
   "cell_type": "code",
   "execution_count": 10,
   "metadata": {},
   "outputs": [
    {
     "data": {
      "text/plain": [
       "array([ 0,  0,  2,  3,  6,  7,  9,  9, 10, 15, 17, 14,  0,  4,  8])"
      ]
     },
     "execution_count": 10,
     "metadata": {},
     "output_type": "execute_result"
    }
   ],
   "source": [
    "gt_classes[:15]"
   ]
  },
  {
   "cell_type": "code",
   "execution_count": 11,
   "metadata": {},
   "outputs": [
    {
     "data": {
      "text/plain": [
       "(7983,)"
      ]
     },
     "execution_count": 11,
     "metadata": {},
     "output_type": "execute_result"
    }
   ],
   "source": [
    "gt_classes.shape"
   ]
  },
  {
   "cell_type": "code",
   "execution_count": 12,
   "metadata": {},
   "outputs": [],
   "source": [
    "predictions = unpickler(in_pkl_path,pred_pkl_name)"
   ]
  },
  {
   "cell_type": "code",
   "execution_count": 13,
   "metadata": {},
   "outputs": [
    {
     "data": {
      "text/plain": [
       "(7983, 25)"
      ]
     },
     "execution_count": 13,
     "metadata": {},
     "output_type": "execute_result"
    }
   ],
   "source": [
    "predictions.shape"
   ]
  },
  {
   "cell_type": "code",
   "execution_count": 14,
   "metadata": {},
   "outputs": [
    {
     "data": {
      "text/plain": [
       "array([  9.144161  ,   3.9989572 ,   1.872393  ,  -2.0716138 ,\n",
       "         2.0560553 ,   1.5932986 ,   1.8990226 ,  -0.23107328,\n",
       "        -3.9870133 ,   3.1387224 ,  -5.2471266 ,  -0.4208253 ,\n",
       "        -5.289769  ,   1.4661468 ,  -5.276964  ,   0.24363959,\n",
       "        -1.1225045 ,  -1.3411887 ,  -3.8600721 ,  -1.3728303 ,\n",
       "       -12.418071  , -13.563217  , -13.914795  , -13.199489  ,\n",
       "       -11.924395  ], dtype=float32)"
      ]
     },
     "execution_count": 14,
     "metadata": {},
     "output_type": "execute_result"
    }
   ],
   "source": [
    "predictions[0]"
   ]
  },
  {
   "cell_type": "code",
   "execution_count": 15,
   "metadata": {},
   "outputs": [],
   "source": [
    "predictions_softmaxed = torch.softmax(torch.tensor(predictions), dim=-1).numpy()"
   ]
  },
  {
   "cell_type": "code",
   "execution_count": 16,
   "metadata": {},
   "outputs": [
    {
     "data": {
      "text/plain": [
       "array([9.8821533e-01, 5.7586124e-03, 6.8669335e-04, 1.3301560e-05,\n",
       "       8.2513725e-04, 5.1946170e-04, 7.0522522e-04, 8.3799016e-05,\n",
       "       1.9590934e-06, 2.4362544e-03, 5.5564158e-07, 6.9315582e-05,\n",
       "       5.3244560e-07, 4.5743812e-04, 5.3930739e-07, 1.3471139e-04,\n",
       "       3.4363347e-05, 2.7613540e-05, 2.2242561e-06, 2.6753474e-05,\n",
       "       4.2706383e-10, 1.3588217e-10, 9.5603581e-11, 1.9549125e-10,\n",
       "       6.9967127e-10], dtype=float32)"
      ]
     },
     "execution_count": 16,
     "metadata": {},
     "output_type": "execute_result"
    }
   ],
   "source": [
    "predictions_softmaxed[0]"
   ]
  },
  {
   "cell_type": "code",
   "execution_count": 17,
   "metadata": {},
   "outputs": [],
   "source": [
    "#Sorting in decending order of scores\n",
    "predictions_arg_sorted = (-predictions).argsort()"
   ]
  },
  {
   "cell_type": "code",
   "execution_count": 18,
   "metadata": {},
   "outputs": [
    {
     "data": {
      "text/plain": [
       "(7983, 25)"
      ]
     },
     "execution_count": 18,
     "metadata": {},
     "output_type": "execute_result"
    }
   ],
   "source": [
    "predictions_arg_sorted.shape"
   ]
  },
  {
   "cell_type": "code",
   "execution_count": 19,
   "metadata": {},
   "outputs": [
    {
     "data": {
      "text/plain": [
       "array([ 0,  1,  9,  4,  6,  2,  5, 13, 15,  7, 11, 16, 17, 19,  3, 18,  8,\n",
       "       10, 14, 12, 24, 20, 23, 21, 22])"
      ]
     },
     "execution_count": 19,
     "metadata": {},
     "output_type": "execute_result"
    }
   ],
   "source": [
    "predictions_arg_sorted[0]"
   ]
  },
  {
   "cell_type": "markdown",
   "metadata": {},
   "source": [
    "Avg number of sentences per passage in coqa = 15"
   ]
  },
  {
   "cell_type": "code",
   "execution_count": 20,
   "metadata": {},
   "outputs": [
    {
     "name": "stdout",
     "output_type": "stream",
     "text": [
      "1\n",
      "25\n"
     ]
    }
   ],
   "source": [
    "print(min(dev_data['turn_ids']))\n",
    "print(max(dev_data['turn_ids']))"
   ]
  },
  {
   "cell_type": "markdown",
   "metadata": {},
   "source": [
    "Turn IDs start from 1. Convert them to 0 based by subtracting 1 to save pain later"
   ]
  },
  {
   "cell_type": "code",
   "execution_count": 21,
   "metadata": {},
   "outputs": [],
   "source": [
    "zero_based_turn_id = [t-1 for t in dev_data['turn_ids']]"
   ]
  },
  {
   "cell_type": "code",
   "execution_count": 22,
   "metadata": {},
   "outputs": [
    {
     "name": "stdout",
     "output_type": "stream",
     "text": [
      "0\n",
      "24\n"
     ]
    }
   ],
   "source": [
    "print(min(zero_based_turn_id))\n",
    "print(max(zero_based_turn_id))"
   ]
  },
  {
   "cell_type": "code",
   "execution_count": 23,
   "metadata": {},
   "outputs": [],
   "source": [
    "turn_id_buckets = [[] for i in range(max(zero_based_turn_id) + 1)]"
   ]
  },
  {
   "cell_type": "code",
   "execution_count": 24,
   "metadata": {},
   "outputs": [
    {
     "data": {
      "text/plain": [
       "25"
      ]
     },
     "execution_count": 24,
     "metadata": {},
     "output_type": "execute_result"
    }
   ],
   "source": [
    "len(turn_id_buckets)"
   ]
  },
  {
   "cell_type": "markdown",
   "metadata": {},
   "source": [
    "Segregate data indices into buckets based on turn ID"
   ]
  },
  {
   "cell_type": "code",
   "execution_count": 25,
   "metadata": {},
   "outputs": [],
   "source": [
    "for i,t_id in enumerate(zero_based_turn_id):\n",
    "    turn_id_buckets[t_id].append(i)"
   ]
  },
  {
   "cell_type": "markdown",
   "metadata": {},
   "source": [
    "## Turn_ID vs number of questions"
   ]
  },
  {
   "cell_type": "code",
   "execution_count": 26,
   "metadata": {},
   "outputs": [],
   "source": [
    "turn_vs_count_df = pd.DataFrame(data={\"Turn_ID\":list(range(max(zero_based_turn_id) + 1)), \n",
    "                                      \"Number_of_questions\":[len(x) for x in turn_id_buckets]})"
   ]
  },
  {
   "cell_type": "code",
   "execution_count": 27,
   "metadata": {},
   "outputs": [
    {
     "data": {
      "text/html": [
       "<div>\n",
       "<style scoped>\n",
       "    .dataframe tbody tr th:only-of-type {\n",
       "        vertical-align: middle;\n",
       "    }\n",
       "\n",
       "    .dataframe tbody tr th {\n",
       "        vertical-align: top;\n",
       "    }\n",
       "\n",
       "    .dataframe thead th {\n",
       "        text-align: right;\n",
       "    }\n",
       "</style>\n",
       "<table border=\"1\" class=\"dataframe\">\n",
       "  <thead>\n",
       "    <tr style=\"text-align: right;\">\n",
       "      <th></th>\n",
       "      <th>Turn_ID</th>\n",
       "      <th>Number_of_questions</th>\n",
       "    </tr>\n",
       "  </thead>\n",
       "  <tbody>\n",
       "    <tr>\n",
       "      <th>0</th>\n",
       "      <td>0</td>\n",
       "      <td>500</td>\n",
       "    </tr>\n",
       "    <tr>\n",
       "      <th>1</th>\n",
       "      <td>1</td>\n",
       "      <td>500</td>\n",
       "    </tr>\n",
       "    <tr>\n",
       "      <th>2</th>\n",
       "      <td>2</td>\n",
       "      <td>500</td>\n",
       "    </tr>\n",
       "    <tr>\n",
       "      <th>3</th>\n",
       "      <td>3</td>\n",
       "      <td>500</td>\n",
       "    </tr>\n",
       "    <tr>\n",
       "      <th>4</th>\n",
       "      <td>4</td>\n",
       "      <td>500</td>\n",
       "    </tr>\n",
       "  </tbody>\n",
       "</table>\n",
       "</div>"
      ],
      "text/plain": [
       "   Turn_ID  Number_of_questions\n",
       "0        0                  500\n",
       "1        1                  500\n",
       "2        2                  500\n",
       "3        3                  500\n",
       "4        4                  500"
      ]
     },
     "execution_count": 27,
     "metadata": {},
     "output_type": "execute_result"
    }
   ],
   "source": [
    "turn_vs_count_df.head()"
   ]
  },
  {
   "cell_type": "code",
   "execution_count": 28,
   "metadata": {},
   "outputs": [
    {
     "data": {
      "text/plain": [
       "<seaborn.axisgrid.FacetGrid at 0x7fe75c1ed048>"
      ]
     },
     "execution_count": 28,
     "metadata": {},
     "output_type": "execute_result"
    },
    {
     "data": {
      "image/png": "[encoded data removed]",
      "text/plain": [
       "<Figure size 432x216 with 1 Axes>"
      ]
     },
     "metadata": {
      "needs_background": "light"
     },
     "output_type": "display_data"
    }
   ],
   "source": [
    "sns.catplot(x=\"Turn_ID\", y=\"Number_of_questions\", kind='bar', data=turn_vs_count_df, height=3, aspect=2)"
   ]
  },
  {
   "cell_type": "markdown",
   "metadata": {},
   "source": [
    "## Turn_ID vs Accuracy"
   ]
  },
  {
   "cell_type": "code",
   "execution_count": 29,
   "metadata": {},
   "outputs": [],
   "source": [
    "turn_vs_accuracy = []\n",
    "for bucket in turn_id_buckets:\n",
    "    num_correct = 0\n",
    "    bucket_size = len(bucket)\n",
    "    for data_index in bucket:\n",
    "        if(predictions_arg_sorted[data_index][0] == gt_classes[data_index]):\n",
    "            num_correct += 1\n",
    "    turn_vs_accuracy.append(num_correct/bucket_size)"
   ]
  },
  {
   "cell_type": "code",
   "execution_count": 30,
   "metadata": {},
   "outputs": [],
   "source": [
    "turn_vs_accuracy_df = pd.DataFrame(data={\"Turn_ID\":list(range(max(zero_based_turn_id) + 1)), \n",
    "                                      \"Accuracy\":turn_vs_accuracy})"
   ]
  },
  {
   "cell_type": "code",
   "execution_count": 31,
   "metadata": {},
   "outputs": [
    {
     "data": {
      "text/plain": [
       "<seaborn.axisgrid.FacetGrid at 0x7fe75f9ee748>"
      ]
     },
     "execution_count": 31,
     "metadata": {},
     "output_type": "execute_result"
    },
    {
     "data": {
      "image/png": "[encoded data removed]",
      "text/plain": [
       "<Figure size 432x216 with 1 Axes>"
      ]
     },
     "metadata": {
      "needs_background": "light"
     },
     "output_type": "display_data"
    }
   ],
   "source": [
    "sns.catplot(x=\"Turn_ID\", y=\"Accuracy\", kind='bar', data=turn_vs_accuracy_df, height=3, aspect=2)"
   ]
  },
  {
   "cell_type": "markdown",
   "metadata": {},
   "source": [
    "## Turn_ID vs answer ranks"
   ]
  },
  {
   "cell_type": "code",
   "execution_count": 32,
   "metadata": {},
   "outputs": [],
   "source": [
    "answer_ranks = []\n",
    "for i,gt in enumerate(gt_classes):\n",
    "    rank = predictions_arg_sorted[i].tolist().index(gt)\n",
    "    answer_ranks.append(rank)\n",
    "assert(len(answer_ranks) == len(zero_based_turn_id))"
   ]
  },
  {
   "cell_type": "code",
   "execution_count": 33,
   "metadata": {},
   "outputs": [],
   "source": [
    "turn_vs_ans_rank_df = pd.DataFrame(data={\"Turn_ID\":zero_based_turn_id, \"Answer_rank\":answer_ranks})"
   ]
  },
  {
   "cell_type": "code",
   "execution_count": 34,
   "metadata": {},
   "outputs": [
    {
     "data": {
      "text/plain": [
       "<seaborn.axisgrid.FacetGrid at 0x7fe75c066160>"
      ]
     },
     "execution_count": 34,
     "metadata": {},
     "output_type": "execute_result"
    },
    {
     "data": {
      "image/png": "[encoded data removed]",
      "text/plain": [
       "<Figure size 1080x360 with 1 Axes>"
      ]
     },
     "metadata": {
      "needs_background": "light"
     },
     "output_type": "display_data"
    }
   ],
   "source": [
    "sns.catplot(x=\"Turn_ID\", y=\"Answer_rank\", kind='boxen', data=turn_vs_ans_rank_df, height=5, aspect=3)"
   ]
  },
  {
   "cell_type": "markdown",
   "metadata": {},
   "source": [
    "## Turd_ID vs mean answer rank"
   ]
  },
  {
   "cell_type": "code",
   "execution_count": 35,
   "metadata": {},
   "outputs": [],
   "source": [
    "mean_ans_ranks = []\n",
    "for bucket in turn_id_buckets:\n",
    "    ranks = []\n",
    "    for data_index in bucket:\n",
    "        ranks.append(answer_ranks[data_index])\n",
    "    mean_rank = np.array(ranks).mean()\n",
    "    mean_ans_ranks.append(mean_rank)"
   ]
  },
  {
   "cell_type": "code",
   "execution_count": 36,
   "metadata": {},
   "outputs": [],
   "source": [
    "turn_vs_mean_ans_rank_df = pd.DataFrame(data={\"Turn_ID\":list(range(max(zero_based_turn_id) + 1)), \"Mean_answer_rank\":mean_ans_ranks})"
   ]
  },
  {
   "cell_type": "code",
   "execution_count": 37,
   "metadata": {},
   "outputs": [
    {
     "data": {
      "text/plain": [
       "<seaborn.axisgrid.FacetGrid at 0x7fe73fddd0b8>"
      ]
     },
     "execution_count": 37,
     "metadata": {},
     "output_type": "execute_result"
    },
    {
     "data": {
      "image/png": "[encoded data removed]",
      "text/plain": [
       "<Figure size 432x216 with 1 Axes>"
      ]
     },
     "metadata": {
      "needs_background": "light"
     },
     "output_type": "display_data"
    }
   ],
   "source": [
    "sns.catplot(x=\"Turn_ID\", y=\"Mean_answer_rank\", kind='point', data=turn_vs_mean_ans_rank_df, height=3, aspect=2)"
   ]
  },
  {
   "cell_type": "markdown",
   "metadata": {},
   "source": [
    "Vertical lines = confidence intervals (0.95)"
   ]
  },
  {
   "cell_type": "code",
   "execution_count": 38,
   "metadata": {},
   "outputs": [
    {
     "name": "stderr",
     "output_type": "stream",
     "text": [
      "/home/bhargav/anaconda3/lib/python3.6/site-packages/scipy/stats/stats.py:1713: FutureWarning: Using a non-tuple sequence for multidimensional indexing is deprecated; use `arr[tuple(seq)]` instead of `arr[seq]`. In the future this will be interpreted as an array index, `arr[np.array(seq)]`, which will result either in an error or a different result.\n",
      "  return np.add.reduce(sorted[indexer] * weights, axis=axis) / sumval\n"
     ]
    },
    {
     "data": {
      "text/plain": [
       "<seaborn.axisgrid.FacetGrid at 0x7fe75c0b26d8>"
      ]
     },
     "execution_count": 38,
     "metadata": {},
     "output_type": "execute_result"
    },
    {
     "data": {
      "image/png": "[encoded data removed]",
      "text/plain": [
       "<Figure size 1080x360 with 1 Axes>"
      ]
     },
     "metadata": {
      "needs_background": "light"
     },
     "output_type": "display_data"
    }
   ],
   "source": [
    "sns.catplot(x=\"Turn_ID\", y=\"Answer_rank\", kind='point', data=turn_vs_ans_rank_df, height=5, aspect=3)"
   ]
  },
  {
   "cell_type": "markdown",
   "metadata": {},
   "source": [
    "Vertical lines = standard deviation"
   ]
  },
  {
   "cell_type": "code",
   "execution_count": 39,
   "metadata": {},
   "outputs": [
    {
     "data": {
      "text/plain": [
       "<seaborn.axisgrid.FacetGrid at 0x7fe73ff64320>"
      ]
     },
     "execution_count": 39,
     "metadata": {},
     "output_type": "execute_result"
    },
    {
     "data": {
      "image/png": "[encoded data removed]",
      "text/plain": [
       "<Figure size 1080x360 with 1 Axes>"
      ]
     },
     "metadata": {
      "needs_background": "light"
     },
     "output_type": "display_data"
    }
   ],
   "source": [
    "sns.catplot(x=\"Turn_ID\", y=\"Answer_rank\", kind='point', data=turn_vs_ans_rank_df, height=5, aspect=3, ci='sd')"
   ]
  },
  {
   "cell_type": "code",
   "execution_count": 40,
   "metadata": {},
   "outputs": [],
   "source": [
    "grouped_ranks = []\n",
    "for rank in answer_ranks:\n",
    "    cat = \"Other\"\n",
    "    if(rank == 0):\n",
    "        cat = \"0\"\n",
    "    elif(rank == 1):\n",
    "        cat = \"1\"\n",
    "    elif(rank == 2):\n",
    "        cat = \"2\"\n",
    "    elif(rank == 3):\n",
    "        cat = \"3\"\n",
    "    grouped_ranks.append(cat)"
   ]
  },
  {
   "cell_type": "code",
   "execution_count": 41,
   "metadata": {},
   "outputs": [],
   "source": [
    "turn_vs_rank_cat = [[] for i in range(max(zero_based_turn_id) + 1)]\n",
    "for i,rank in enumerate(grouped_ranks):\n",
    "    turn_id = zero_based_turn_id[i]\n",
    "    turn_vs_rank_cat[turn_id].append(rank)\n",
    "    "
   ]
  },
  {
   "cell_type": "code",
   "execution_count": 42,
   "metadata": {},
   "outputs": [],
   "source": [
    "t_ids = []\n",
    "rank_categories = []\n",
    "fractions = []\n",
    "for i,bucket in enumerate(turn_vs_rank_cat):\n",
    "    unique, counts = np.unique(bucket, return_counts=True)\n",
    "    frac = dict(zip(unique, counts/len(bucket)))\n",
    "#     print(\"==============\")\n",
    "#     print(i,frac)\n",
    "#     print(\"==============\")\n",
    "    for key,value in frac.items():\n",
    "        t_ids.append(i)\n",
    "        rank_categories.append(key)\n",
    "        fractions.append(value)\n",
    "        \n",
    "assert(len(t_ids) == len(rank_categories) == len(fractions))"
   ]
  },
  {
   "cell_type": "code",
   "execution_count": 43,
   "metadata": {},
   "outputs": [
    {
     "name": "stdout",
     "output_type": "stream",
     "text": [
      "[0, 0, 0, 0, 0, 1, 1, 1, 1, 1]\n",
      "['0', '1', '2', '3', 'Other', '0', '1', '2', '3', 'Other']\n",
      "[0.612, 0.152, 0.088, 0.036, 0.112, 0.558, 0.15, 0.084, 0.052, 0.156]\n"
     ]
    }
   ],
   "source": [
    "print(t_ids[:10])\n",
    "print(rank_categories[:10])\n",
    "print(fractions[:10])"
   ]
  },
  {
   "cell_type": "code",
   "execution_count": 44,
   "metadata": {},
   "outputs": [],
   "source": [
    "turn_vs_rank_cat_df = pd.DataFrame(data={'Turn_ID':t_ids, 'Rank_categories':rank_categories, 'Fractions':fractions})"
   ]
  },
  {
   "cell_type": "code",
   "execution_count": 45,
   "metadata": {},
   "outputs": [
    {
     "data": {
      "text/plain": [
       "<seaborn.axisgrid.FacetGrid at 0x7fe73fb57630>"
      ]
     },
     "execution_count": 45,
     "metadata": {},
     "output_type": "execute_result"
    },
    {
     "data": {
      "image/png": "[encoded data removed]",
      "text/plain": [
       "<Figure size 1242.5x288 with 1 Axes>"
      ]
     },
     "metadata": {
      "needs_background": "light"
     },
     "output_type": "display_data"
    }
   ],
   "source": [
    "p = sns.catplot(x=\"Turn_ID\", y=\"Fractions\", hue=\"Rank_categories\", data=turn_vs_rank_cat_df,\n",
    "                height=4, aspect=4, kind=\"bar\", palette=\"Paired\", hue_order=['0','1','2','3','Other'])\n",
    "p.set_ylabels(\"Fraction of questions who's true answer has rank 'k'\")"
   ]
  },
  {
   "cell_type": "markdown",
   "metadata": {},
   "source": [
    "# Examining sentence scores"
   ]
  },
  {
   "cell_type": "code",
   "execution_count": 46,
   "metadata": {},
   "outputs": [],
   "source": [
    "# considering only the first 20 turns because after that answer_ranks[index] > 1 isn't true for all questions \n",
    "# for some turn_id > 20\n",
    "\n",
    "avg_first_minus_second_rank0 = []\n",
    "avg_first_minus_second_rank1 = []\n",
    "\n",
    "for i in range(20):\n",
    "    bucket = turn_id_buckets[i]\n",
    "    score_differences_correct = []\n",
    "    score_differences_incorrect = []\n",
    "    for index in bucket:\n",
    "        if(answer_ranks[index] > 1):\n",
    "            continue\n",
    "        s0_index = predictions_arg_sorted[index][0]\n",
    "        s1_index = predictions_arg_sorted[index][1]\n",
    "        s0 = predictions_softmaxed[index][s0_index]\n",
    "        s1 = predictions_softmaxed[index][s1_index]\n",
    "        difference = s0 - s1\n",
    "        if(answer_ranks[index] == 0):\n",
    "            score_differences_correct.append(difference)\n",
    "        elif(answer_ranks[index] == 1):\n",
    "            score_differences_incorrect.append(difference)\n",
    "    \n",
    "    if(len(score_differences_correct) != 0 and len(score_differences_incorrect) != 0):\n",
    "        avg_difference_correct = np.mean(score_differences_correct)\n",
    "        avg_difference_incorrect = np.mean(score_differences_incorrect)\n",
    "        \n",
    "        avg_first_minus_second_rank0.append(avg_difference_correct)\n",
    "        avg_first_minus_second_rank1.append(avg_difference_incorrect)\n",
    "    else:\n",
    "        print(\"Skipped turn_id:{}\".format(i))\n",
    "        continue\n",
    "    \n",
    "    \n"
   ]
  },
  {
   "cell_type": "markdown",
   "metadata": {},
   "source": [
    "## Difference in scores between the first and the second ranked sentences when the ture answer is in first rank"
   ]
  },
  {
   "cell_type": "code",
   "execution_count": 47,
   "metadata": {},
   "outputs": [],
   "source": [
    "turn_vs_relative_diff_correct_df = pd.DataFrame(data={'Turn_ID':list(range(20)), 'Mean_Score_Differences':avg_first_minus_second_rank0})"
   ]
  },
  {
   "cell_type": "code",
   "execution_count": 48,
   "metadata": {},
   "outputs": [
    {
     "data": {
      "text/plain": [
       "<seaborn.axisgrid.FacetGrid at 0x7fe73febb780>"
      ]
     },
     "execution_count": 48,
     "metadata": {},
     "output_type": "execute_result"
    },
    {
     "data": {
      "image/png": "[encoded data removed]",
      "text/plain": [
       "<Figure size 720x360 with 1 Axes>"
      ]
     },
     "metadata": {
      "needs_background": "light"
     },
     "output_type": "display_data"
    }
   ],
   "source": [
    "sns.catplot(x=\"Turn_ID\", y=\"Mean_Score_Differences\", kind='point', data=turn_vs_relative_diff_correct_df, height=5, aspect=2)"
   ]
  },
  {
   "cell_type": "markdown",
   "metadata": {},
   "source": [
    "## Difference in scores between the first and the second ranked sentences when the ture answer is in second rank"
   ]
  },
  {
   "cell_type": "code",
   "execution_count": 49,
   "metadata": {},
   "outputs": [],
   "source": [
    "turn_vs_relative_diff_incorrect_df = pd.DataFrame(data={'Turn_ID':list(range(20)), 'Mean_Score_Differences':avg_first_minus_second_rank1})"
   ]
  },
  {
   "cell_type": "code",
   "execution_count": 50,
   "metadata": {},
   "outputs": [
    {
     "data": {
      "text/plain": [
       "<seaborn.axisgrid.FacetGrid at 0x7fe73faadb00>"
      ]
     },
     "execution_count": 50,
     "metadata": {},
     "output_type": "execute_result"
    },
    {
     "data": {
      "image/png": "[encoded data removed]",
      "text/plain": [
       "<Figure size 720x360 with 1 Axes>"
      ]
     },
     "metadata": {
      "needs_background": "light"
     },
     "output_type": "display_data"
    }
   ],
   "source": [
    "sns.catplot(x=\"Turn_ID\", y=\"Mean_Score_Differences\", kind='point', data=turn_vs_relative_diff_incorrect_df, height=5, aspect=2)"
   ]
  },
  {
   "cell_type": "markdown",
   "metadata": {},
   "source": [
    "## By how much was the first rank missed?"
   ]
  },
  {
   "cell_type": "code",
   "execution_count": 57,
   "metadata": {},
   "outputs": [],
   "source": [
    "score_differences = []\n",
    "for index in range(len(predictions_softmaxed)):\n",
    "    ans_rank = answer_ranks[index]\n",
    "    if(ans_rank == 0):\n",
    "        score_differences.append(0)\n",
    "    else:\n",
    "        s0_index = predictions_arg_sorted[index][0]\n",
    "        sk_index = predictions_arg_sorted[index][ans_rank]\n",
    "        s0 = predictions_softmaxed[index][s0_index]\n",
    "        sk = predictions_softmaxed[index][sk_index]\n",
    "        difference = s0 - sk\n",
    "        score_differences.append(difference)"
   ]
  },
  {
   "cell_type": "code",
   "execution_count": 58,
   "metadata": {},
   "outputs": [
    {
     "data": {
      "text/plain": [
       "[0, 0, 0, 0, 0.38760132, 0, 0, 0, 0.16570446, 0]"
      ]
     },
     "execution_count": 58,
     "metadata": {},
     "output_type": "execute_result"
    }
   ],
   "source": [
    "score_differences[:10]"
   ]
  },
  {
   "cell_type": "code",
   "execution_count": 59,
   "metadata": {},
   "outputs": [],
   "source": [
    "turn_vs_avg_score_differences_incorrect = []\n",
    "for bucket in turn_id_buckets:\n",
    "    scores = []\n",
    "    for index in bucket:\n",
    "        if(answer_ranks[index] != 0):\n",
    "            scores.append(score_differences[index])\n",
    "    mean_diff = np.mean(scores)\n",
    "    turn_vs_avg_score_differences_incorrect.append(mean_diff)"
   ]
  },
  {
   "cell_type": "code",
   "execution_count": 60,
   "metadata": {},
   "outputs": [],
   "source": [
    "turn_vs_avg_score_differences_incorrect_df = pd.DataFrame(data={'Turn_ID':list(range(len(turn_id_buckets))), 'Mean_Score_Differences':turn_vs_avg_score_differences_incorrect})"
   ]
  },
  {
   "cell_type": "code",
   "execution_count": 64,
   "metadata": {},
   "outputs": [
    {
     "data": {
      "text/plain": [
       "<seaborn.axisgrid.FacetGrid at 0x7fe73f20ea58>"
      ]
     },
     "execution_count": 64,
     "metadata": {},
     "output_type": "execute_result"
    },
    {
     "data": {
      "image/png": "[encoded data removed]",
      "text/plain": [
       "<Figure size 720x360 with 1 Axes>"
      ]
     },
     "metadata": {
      "needs_background": "light"
     },
     "output_type": "display_data"
    }
   ],
   "source": [
    "sns.catplot(x=\"Turn_ID\", y=\"Mean_Score_Differences\", kind='point', data=turn_vs_avg_score_differences_incorrect_df, \n",
    "            height=5, aspect=2)"
   ]
  },
  {
   "cell_type": "code",
   "execution_count": 62,
   "metadata": {},
   "outputs": [
    {
     "data": {
      "text/html": [
       "<div>\n",
       "<style scoped>\n",
       "    .dataframe tbody tr th:only-of-type {\n",
       "        vertical-align: middle;\n",
       "    }\n",
       "\n",
       "    .dataframe tbody tr th {\n",
       "        vertical-align: top;\n",
       "    }\n",
       "\n",
       "    .dataframe thead th {\n",
       "        text-align: right;\n",
       "    }\n",
       "</style>\n",
       "<table border=\"1\" class=\"dataframe\">\n",
       "  <thead>\n",
       "    <tr style=\"text-align: right;\">\n",
       "      <th></th>\n",
       "      <th>Turn_ID</th>\n",
       "      <th>Mean_Score_Differences</th>\n",
       "    </tr>\n",
       "  </thead>\n",
       "  <tbody>\n",
       "    <tr>\n",
       "      <th>0</th>\n",
       "      <td>0</td>\n",
       "      <td>0.499428</td>\n",
       "    </tr>\n",
       "    <tr>\n",
       "      <th>1</th>\n",
       "      <td>1</td>\n",
       "      <td>0.417923</td>\n",
       "    </tr>\n",
       "    <tr>\n",
       "      <th>2</th>\n",
       "      <td>2</td>\n",
       "      <td>0.394684</td>\n",
       "    </tr>\n",
       "    <tr>\n",
       "      <th>3</th>\n",
       "      <td>3</td>\n",
       "      <td>0.437333</td>\n",
       "    </tr>\n",
       "    <tr>\n",
       "      <th>4</th>\n",
       "      <td>4</td>\n",
       "      <td>0.415454</td>\n",
       "    </tr>\n",
       "    <tr>\n",
       "      <th>5</th>\n",
       "      <td>5</td>\n",
       "      <td>0.396315</td>\n",
       "    </tr>\n",
       "    <tr>\n",
       "      <th>6</th>\n",
       "      <td>6</td>\n",
       "      <td>0.409490</td>\n",
       "    </tr>\n",
       "    <tr>\n",
       "      <th>7</th>\n",
       "      <td>7</td>\n",
       "      <td>0.421462</td>\n",
       "    </tr>\n",
       "    <tr>\n",
       "      <th>8</th>\n",
       "      <td>8</td>\n",
       "      <td>0.415114</td>\n",
       "    </tr>\n",
       "    <tr>\n",
       "      <th>9</th>\n",
       "      <td>9</td>\n",
       "      <td>0.419719</td>\n",
       "    </tr>\n",
       "    <tr>\n",
       "      <th>10</th>\n",
       "      <td>10</td>\n",
       "      <td>0.416887</td>\n",
       "    </tr>\n",
       "    <tr>\n",
       "      <th>11</th>\n",
       "      <td>11</td>\n",
       "      <td>0.418967</td>\n",
       "    </tr>\n",
       "    <tr>\n",
       "      <th>12</th>\n",
       "      <td>12</td>\n",
       "      <td>0.424660</td>\n",
       "    </tr>\n",
       "    <tr>\n",
       "      <th>13</th>\n",
       "      <td>13</td>\n",
       "      <td>0.430276</td>\n",
       "    </tr>\n",
       "    <tr>\n",
       "      <th>14</th>\n",
       "      <td>14</td>\n",
       "      <td>0.419341</td>\n",
       "    </tr>\n",
       "    <tr>\n",
       "      <th>15</th>\n",
       "      <td>15</td>\n",
       "      <td>0.420761</td>\n",
       "    </tr>\n",
       "    <tr>\n",
       "      <th>16</th>\n",
       "      <td>16</td>\n",
       "      <td>0.417406</td>\n",
       "    </tr>\n",
       "    <tr>\n",
       "      <th>17</th>\n",
       "      <td>17</td>\n",
       "      <td>0.401390</td>\n",
       "    </tr>\n",
       "    <tr>\n",
       "      <th>18</th>\n",
       "      <td>18</td>\n",
       "      <td>0.441145</td>\n",
       "    </tr>\n",
       "    <tr>\n",
       "      <th>19</th>\n",
       "      <td>19</td>\n",
       "      <td>0.419112</td>\n",
       "    </tr>\n",
       "    <tr>\n",
       "      <th>20</th>\n",
       "      <td>20</td>\n",
       "      <td>0.467123</td>\n",
       "    </tr>\n",
       "    <tr>\n",
       "      <th>21</th>\n",
       "      <td>21</td>\n",
       "      <td>0.424906</td>\n",
       "    </tr>\n",
       "    <tr>\n",
       "      <th>22</th>\n",
       "      <td>22</td>\n",
       "      <td>0.457181</td>\n",
       "    </tr>\n",
       "    <tr>\n",
       "      <th>23</th>\n",
       "      <td>23</td>\n",
       "      <td>0.992909</td>\n",
       "    </tr>\n",
       "    <tr>\n",
       "      <th>24</th>\n",
       "      <td>24</td>\n",
       "      <td>0.442509</td>\n",
       "    </tr>\n",
       "  </tbody>\n",
       "</table>\n",
       "</div>"
      ],
      "text/plain": [
       "    Turn_ID  Mean_Score_Differences\n",
       "0         0                0.499428\n",
       "1         1                0.417923\n",
       "2         2                0.394684\n",
       "3         3                0.437333\n",
       "4         4                0.415454\n",
       "5         5                0.396315\n",
       "6         6                0.409490\n",
       "7         7                0.421462\n",
       "8         8                0.415114\n",
       "9         9                0.419719\n",
       "10       10                0.416887\n",
       "11       11                0.418967\n",
       "12       12                0.424660\n",
       "13       13                0.430276\n",
       "14       14                0.419341\n",
       "15       15                0.420761\n",
       "16       16                0.417406\n",
       "17       17                0.401390\n",
       "18       18                0.441145\n",
       "19       19                0.419112\n",
       "20       20                0.467123\n",
       "21       21                0.424906\n",
       "22       22                0.457181\n",
       "23       23                0.992909\n",
       "24       24                0.442509"
      ]
     },
     "execution_count": 62,
     "metadata": {},
     "output_type": "execute_result"
    }
   ],
   "source": [
    "turn_vs_avg_score_differences_incorrect_df"
   ]
  },
  {
   "cell_type": "code",
   "execution_count": null,
   "metadata": {},
   "outputs": [],
   "source": []
  }
 ],
 "metadata": {
  "kernelspec": {
   "display_name": "Python 3",
   "language": "python",
   "name": "python3"
  },
  "language_info": {
   "codemirror_mode": {
    "name": "ipython",
    "version": 3
   },
   "file_extension": ".py",
   "mimetype": "text/x-python",
   "name": "python",
   "nbconvert_exporter": "python",
   "pygments_lexer": "ipython3",
   "version": "3.6.6"
  }
 },
 "nbformat": 4,
 "nbformat_minor": 2
}
