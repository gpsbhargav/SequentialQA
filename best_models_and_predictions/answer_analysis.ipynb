{
 "cells": [
  {
   "cell_type": "code",
   "execution_count": 1,
   "metadata": {},
   "outputs": [],
   "source": [
    "from collections import Counter\n",
    "import string\n",
    "import re\n",
    "import argparse\n",
    "import json\n",
    "import sys\n",
    "import numpy as np\n",
    "import nltk\n",
    "import random\n",
    "import math\n",
    "import os\n",
    "import pickle\n",
    "from tqdm import tqdm\n",
    "import seaborn as sns\n",
    "import pandas as pd\n",
    "import torch"
   ]
  },
  {
   "cell_type": "code",
   "execution_count": 2,
   "metadata": {},
   "outputs": [],
   "source": [
    "in_pkl_path = \"./\"\n",
    "pred_pkl_name = \"h2_predictions_no_tf.pkl\"\n",
    "gt_pkl_name = \"../data/coqa/preprocessed_dev_no_tf.pkl\""
   ]
  },
  {
   "cell_type": "code",
   "execution_count": 3,
   "metadata": {},
   "outputs": [],
   "source": [
    "def pickler(path,pkl_name,obj):\n",
    "    with open(os.path.join(path, pkl_name), 'wb') as f:\n",
    "        pickle.dump(obj, f, pickle.HIGHEST_PROTOCOL)\n",
    "\n",
    "def unpickler(path,pkl_name):\n",
    "    with open(os.path.join(path, pkl_name) ,'rb') as f:\n",
    "        obj = pickle.load(f)\n",
    "    return obj"
   ]
  },
  {
   "cell_type": "code",
   "execution_count": 4,
   "metadata": {},
   "outputs": [],
   "source": [
    "dev_data = unpickler(in_pkl_path,gt_pkl_name)"
   ]
  },
  {
   "cell_type": "code",
   "execution_count": 5,
   "metadata": {},
   "outputs": [
    {
     "data": {
      "text/plain": [
       "dict_keys(['passages_word', 'passages_char', 'questions_word', 'questions_char', 'answers_word', 'answers_char', 'histories_word', 'histories_char', 'supporting_facts', 'unpadded_question_lengths', 'unpadded_passage_lengths', 'unpadded_answer_lengths', 'data_points', 'turn_ids', 'questions_word_unpadded', 'questions_char_unpadded', 'separator_id'])"
      ]
     },
     "execution_count": 5,
     "metadata": {},
     "output_type": "execute_result"
    }
   ],
   "source": [
    "dev_data.keys()"
   ]
  },
  {
   "cell_type": "code",
   "execution_count": 6,
   "metadata": {},
   "outputs": [
    {
     "data": {
      "text/plain": [
       "25"
      ]
     },
     "execution_count": 6,
     "metadata": {},
     "output_type": "execute_result"
    }
   ],
   "source": [
    "len(dev_data['supporting_facts'][100])"
   ]
  },
  {
   "cell_type": "code",
   "execution_count": 7,
   "metadata": {},
   "outputs": [],
   "source": [
    "gt = dev_data[\"supporting_facts\"]"
   ]
  },
  {
   "cell_type": "code",
   "execution_count": 8,
   "metadata": {},
   "outputs": [
    {
     "data": {
      "text/plain": [
       "7983"
      ]
     },
     "execution_count": 8,
     "metadata": {},
     "output_type": "execute_result"
    }
   ],
   "source": [
    "len(gt)"
   ]
  },
  {
   "cell_type": "code",
   "execution_count": 9,
   "metadata": {},
   "outputs": [],
   "source": [
    "gt_classes = np.array(gt).argmax(axis=1)"
   ]
  },
  {
   "cell_type": "code",
   "execution_count": 10,
   "metadata": {},
   "outputs": [
    {
     "data": {
      "text/plain": [
       "array([ 0,  0,  2,  3,  6,  7,  9,  9, 10, 15, 17, 14,  0,  4,  8])"
      ]
     },
     "execution_count": 10,
     "metadata": {},
     "output_type": "execute_result"
    }
   ],
   "source": [
    "gt_classes[:15]"
   ]
  },
  {
   "cell_type": "code",
   "execution_count": 11,
   "metadata": {},
   "outputs": [
    {
     "data": {
      "text/plain": [
       "(7983,)"
      ]
     },
     "execution_count": 11,
     "metadata": {},
     "output_type": "execute_result"
    }
   ],
   "source": [
    "gt_classes.shape"
   ]
  },
  {
   "cell_type": "code",
   "execution_count": 12,
   "metadata": {},
   "outputs": [],
   "source": [
    "predictions = unpickler(in_pkl_path,pred_pkl_name)"
   ]
  },
  {
   "cell_type": "code",
   "execution_count": 13,
   "metadata": {},
   "outputs": [
    {
     "data": {
      "text/plain": [
       "(7983, 25)"
      ]
     },
     "execution_count": 13,
     "metadata": {},
     "output_type": "execute_result"
    }
   ],
   "source": [
    "predictions.shape"
   ]
  },
  {
   "cell_type": "code",
   "execution_count": 14,
   "metadata": {},
   "outputs": [
    {
     "data": {
      "text/plain": [
       "array([  9.144161  ,   3.9989572 ,   1.872393  ,  -2.0716138 ,\n",
       "         2.0560553 ,   1.5932986 ,   1.8990226 ,  -0.23107328,\n",
       "        -3.9870133 ,   3.1387224 ,  -5.2471266 ,  -0.4208253 ,\n",
       "        -5.289769  ,   1.4661468 ,  -5.276964  ,   0.24363959,\n",
       "        -1.1225045 ,  -1.3411887 ,  -3.8600721 ,  -1.3728303 ,\n",
       "       -12.418071  , -13.563217  , -13.914795  , -13.199489  ,\n",
       "       -11.924395  ], dtype=float32)"
      ]
     },
     "execution_count": 14,
     "metadata": {},
     "output_type": "execute_result"
    }
   ],
   "source": [
    "predictions[0]"
   ]
  },
  {
   "cell_type": "code",
   "execution_count": 15,
   "metadata": {},
   "outputs": [],
   "source": [
    "predictions_softmaxed = torch.softmax(torch.tensor(predictions), dim=-1).numpy()"
   ]
  },
  {
   "cell_type": "code",
   "execution_count": 16,
   "metadata": {},
   "outputs": [
    {
     "data": {
      "text/plain": [
       "array([9.8821533e-01, 5.7586124e-03, 6.8669335e-04, 1.3301560e-05,\n",
       "       8.2513725e-04, 5.1946170e-04, 7.0522522e-04, 8.3799016e-05,\n",
       "       1.9590934e-06, 2.4362544e-03, 5.5564158e-07, 6.9315582e-05,\n",
       "       5.3244560e-07, 4.5743812e-04, 5.3930739e-07, 1.3471139e-04,\n",
       "       3.4363347e-05, 2.7613540e-05, 2.2242561e-06, 2.6753474e-05,\n",
       "       4.2706383e-10, 1.3588217e-10, 9.5603581e-11, 1.9549125e-10,\n",
       "       6.9967127e-10], dtype=float32)"
      ]
     },
     "execution_count": 16,
     "metadata": {},
     "output_type": "execute_result"
    }
   ],
   "source": [
    "predictions_softmaxed[0]"
   ]
  },
  {
   "cell_type": "code",
   "execution_count": 17,
   "metadata": {},
   "outputs": [],
   "source": [
    "#Sorting in decending order of scores\n",
    "predictions_arg_sorted = (-predictions).argsort()"
   ]
  },
  {
   "cell_type": "code",
   "execution_count": 18,
   "metadata": {},
   "outputs": [
    {
     "data": {
      "text/plain": [
       "(7983, 25)"
      ]
     },
     "execution_count": 18,
     "metadata": {},
     "output_type": "execute_result"
    }
   ],
   "source": [
    "predictions_arg_sorted.shape"
   ]
  },
  {
   "cell_type": "code",
   "execution_count": 19,
   "metadata": {},
   "outputs": [
    {
     "data": {
      "text/plain": [
       "array([ 0,  1,  9,  4,  6,  2,  5, 13, 15,  7, 11, 16, 17, 19,  3, 18,  8,\n",
       "       10, 14, 12, 24, 20, 23, 21, 22])"
      ]
     },
     "execution_count": 19,
     "metadata": {},
     "output_type": "execute_result"
    }
   ],
   "source": [
    "predictions_arg_sorted[0]"
   ]
  },
  {
   "cell_type": "markdown",
   "metadata": {},
   "source": [
    "Avg number of sentences per passage in coqa = 15"
   ]
  },
  {
   "cell_type": "code",
   "execution_count": 20,
   "metadata": {},
   "outputs": [
    {
     "name": "stdout",
     "output_type": "stream",
     "text": [
      "1\n",
      "25\n"
     ]
    }
   ],
   "source": [
    "print(min(dev_data['turn_ids']))\n",
    "print(max(dev_data['turn_ids']))"
   ]
  },
  {
   "cell_type": "markdown",
   "metadata": {},
   "source": [
    "Turn IDs start from 1. Convert them to 0 based by subtracting 1 to save pain later"
   ]
  },
  {
   "cell_type": "code",
   "execution_count": 21,
   "metadata": {},
   "outputs": [],
   "source": [
    "zero_based_turn_id = [t-1 for t in dev_data['turn_ids']]"
   ]
  },
  {
   "cell_type": "code",
   "execution_count": 22,
   "metadata": {},
   "outputs": [
    {
     "name": "stdout",
     "output_type": "stream",
     "text": [
      "0\n",
      "24\n"
     ]
    }
   ],
   "source": [
    "print(min(zero_based_turn_id))\n",
    "print(max(zero_based_turn_id))"
   ]
  },
  {
   "cell_type": "code",
   "execution_count": 23,
   "metadata": {},
   "outputs": [],
   "source": [
    "turn_id_buckets = [[] for i in range(max(zero_based_turn_id) + 1)]"
   ]
  },
  {
   "cell_type": "code",
   "execution_count": 24,
   "metadata": {},
   "outputs": [
    {
     "data": {
      "text/plain": [
       "25"
      ]
     },
     "execution_count": 24,
     "metadata": {},
     "output_type": "execute_result"
    }
   ],
   "source": [
    "len(turn_id_buckets)"
   ]
  },
  {
   "cell_type": "markdown",
   "metadata": {},
   "source": [
    "Segregate data indices into buckets based on turn ID"
   ]
  },
  {
   "cell_type": "code",
   "execution_count": 25,
   "metadata": {},
   "outputs": [],
   "source": [
    "for i,t_id in enumerate(zero_based_turn_id):\n",
    "    turn_id_buckets[t_id].append(i)"
   ]
  },
  {
   "cell_type": "markdown",
   "metadata": {},
   "source": [
    "## Turn_ID vs number of questions"
   ]
  },
  {
   "cell_type": "code",
   "execution_count": 26,
   "metadata": {},
   "outputs": [],
   "source": [
    "turn_vs_count_df = pd.DataFrame(data={\"Turn_ID\":list(range(max(zero_based_turn_id) + 1)), \n",
    "                                      \"Number_of_questions\":[len(x) for x in turn_id_buckets]})"
   ]
  },
  {
   "cell_type": "code",
   "execution_count": 27,
   "metadata": {},
   "outputs": [
    {
     "data": {
      "text/html": [
       "<div>\n",
       "<style scoped>\n",
       "    .dataframe tbody tr th:only-of-type {\n",
       "        vertical-align: middle;\n",
       "    }\n",
       "\n",
       "    .dataframe tbody tr th {\n",
       "        vertical-align: top;\n",
       "    }\n",
       "\n",
       "    .dataframe thead th {\n",
       "        text-align: right;\n",
       "    }\n",
       "</style>\n",
       "<table border=\"1\" class=\"dataframe\">\n",
       "  <thead>\n",
       "    <tr style=\"text-align: right;\">\n",
       "      <th></th>\n",
       "      <th>Turn_ID</th>\n",
       "      <th>Number_of_questions</th>\n",
       "    </tr>\n",
       "  </thead>\n",
       "  <tbody>\n",
       "    <tr>\n",
       "      <th>0</th>\n",
       "      <td>0</td>\n",
       "      <td>500</td>\n",
       "    </tr>\n",
       "    <tr>\n",
       "      <th>1</th>\n",
       "      <td>1</td>\n",
       "      <td>500</td>\n",
       "    </tr>\n",
       "    <tr>\n",
       "      <th>2</th>\n",
       "      <td>2</td>\n",
       "      <td>500</td>\n",
       "    </tr>\n",
       "    <tr>\n",
       "      <th>3</th>\n",
       "      <td>3</td>\n",
       "      <td>500</td>\n",
       "    </tr>\n",
       "    <tr>\n",
       "      <th>4</th>\n",
       "      <td>4</td>\n",
       "      <td>500</td>\n",
       "    </tr>\n",
       "  </tbody>\n",
       "</table>\n",
       "</div>"
      ],
      "text/plain": [
       "   Turn_ID  Number_of_questions\n",
       "0        0                  500\n",
       "1        1                  500\n",
       "2        2                  500\n",
       "3        3                  500\n",
       "4        4                  500"
      ]
     },
     "execution_count": 27,
     "metadata": {},
     "output_type": "execute_result"
    }
   ],
   "source": [
    "turn_vs_count_df.head()"
   ]
  },
  {
   "cell_type": "code",
   "execution_count": 28,
   "metadata": {},
   "outputs": [
    {
     "data": {
      "text/plain": [
       "<seaborn.axisgrid.FacetGrid at 0x7fe75c1ed048>"
      ]
     },
     "execution_count": 28,
     "metadata": {},
     "output_type": "execute_result"
    },
    {
     "data": {
      "image/png": "[encoded data removed]",
      "text/plain": [
       "<Figure size 432x216 with 1 Axes>"
      ]
     },
     "metadata": {
      "needs_background": "light"
     },
     "output_type": "display_data"
    }
   ],
   "source": [
    "sns.catplot(x=\"Turn_ID\", y=\"Number_of_questions\", kind='bar', data=turn_vs_count_df, height=3, aspect=2)"
   ]
  },
  {
   "cell_type": "markdown",
   "metadata": {},
   "source": [
    "## Turn_ID vs Accuracy"
   ]
  },
  {
   "cell_type": "code",
   "execution_count": 29,
   "metadata": {},
   "outputs": [],
   "source": [
    "turn_vs_accuracy = []\n",
    "for bucket in turn_id_buckets:\n",
    "    num_correct = 0\n",
    "    bucket_size = len(bucket)\n",
    "    for data_index in bucket:\n",
    "        if(predictions_arg_sorted[data_index][0] == gt_classes[data_index]):\n",
    "            num_correct += 1\n",
    "    turn_vs_accuracy.append(num_correct/bucket_size)"
   ]
  },
  {
   "cell_type": "code",
   "execution_count": 30,
   "metadata": {},
   "outputs": [],
   "source": [
    "turn_vs_accuracy_df = pd.DataFrame(data={\"Turn_ID\":list(range(max(zero_based_turn_id) + 1)), \n",
    "                                      \"Accuracy\":turn_vs_accuracy})"
   ]
  },
  {
   "cell_type": "code",
   "execution_count": 31,
   "metadata": {},
   "outputs": [
    {
     "data": {
      "text/plain": [
       "<seaborn.axisgrid.FacetGrid at 0x7fe75f9ee748>"
      ]
     },
     "execution_count": 31,
     "metadata": {},
     "output_type": "execute_result"
    },
    {
     "data": {
      "image/png": "[encoded data removed]",
      "text/plain": [
       "<Figure size 432x216 with 1 Axes>"
      ]
     },
     "metadata": {
      "needs_background": "light"
     },
     "output_type": "display_data"
    }
   ],
   "source": [
    "sns.catplot(x=\"Turn_ID\", y=\"Accuracy\", kind='bar', data=turn_vs_accuracy_df, height=3, aspect=2)"
   ]
  },
  {
   "cell_type": "markdown",
   "metadata": {},
   "source": [
    "## Turn_ID vs answer ranks"
   ]
  },
  {
   "cell_type": "code",
   "execution_count": 32,
   "metadata": {},
   "outputs": [],
   "source": [
    "answer_ranks = []\n",
    "for i,gt in enumerate(gt_classes):\n",
    "    rank = predictions_arg_sorted[i].tolist().index(gt)\n",
    "    answer_ranks.append(rank)\n",
    "assert(len(answer_ranks) == len(zero_based_turn_id))"
   ]
  },
  {
   "cell_type": "code",
   "execution_count": 33,
   "metadata": {},
   "outputs": [],
   "source": [
    "turn_vs_ans_rank_df = pd.DataFrame(data={\"Turn_ID\":zero_based_turn_id, \"Answer_rank\":answer_ranks})"
   ]
  },
  {
   "cell_type": "code",
   "execution_count": 34,
   "metadata": {},
   "outputs": [
    {
     "data": {
      "text/plain": [
       "<seaborn.axisgrid.FacetGrid at 0x7fe75c066160>"
      ]
     },
     "execution_count": 34,
     "metadata": {},
     "output_type": "execute_result"
    },
    {
     "data": {
      "image/png": "[encoded data removed]",
      "text/plain": [
       "<Figure size 1080x360 with 1 Axes>"
      ]
     },
     "metadata": {
      "needs_background": "light"
     },
     "output_type": "display_data"
    }
   ],
   "source": [
    "sns.catplot(x=\"Turn_ID\", y=\"Answer_rank\", kind='boxen', data=turn_vs_ans_rank_df, height=5, aspect=3)"
   ]
  },
  {
   "cell_type": "markdown",
   "metadata": {},
   "source": [
    "## Turd_ID vs mean answer rank"
   ]
  },
  {
   "cell_type": "code",
   "execution_count": 35,
   "metadata": {},
   "outputs": [],
   "source": [
    "mean_ans_ranks = []\n",
    "for bucket in turn_id_buckets:\n",
    "    ranks = []\n",
    "    for data_index in bucket:\n",
    "        ranks.append(answer_ranks[data_index])\n",
    "    mean_rank = np.array(ranks).mean()\n",
    "    mean_ans_ranks.append(mean_rank)"
   ]
  },
  {
   "cell_type": "code",
   "execution_count": 36,
   "metadata": {},
   "outputs": [],
   "source": [
    "turn_vs_mean_ans_rank_df = pd.DataFrame(data={\"Turn_ID\":list(range(max(zero_based_turn_id) + 1)), \"Mean_answer_rank\":mean_ans_ranks})"
   ]
  },
  {
   "cell_type": "code",
   "execution_count": 37,
   "metadata": {},
   "outputs": [
    {
     "data": {
      "text/plain": [
       "<seaborn.axisgrid.FacetGrid at 0x7fe73fddd0b8>"
      ]
     },
     "execution_count": 37,
     "metadata": {},
     "output_type": "execute_result"
    },
    {
     "data": {
      "image/png": "[encoded data removed]",
      "text/plain": [
       "<Figure size 432x216 with 1 Axes>"
      ]
     },
     "metadata": {
      "needs_background": "light"
     },
     "output_type": "display_data"
    }
   ],
   "source": [
    "sns.catplot(x=\"Turn_ID\", y=\"Mean_answer_rank\", kind='point', data=turn_vs_mean_ans_rank_df, height=3, aspect=2)"
   ]
  },
  {
   "cell_type": "markdown",
   "metadata": {},
   "source": [
    "Vertical lines = confidence intervals (0.95)"
   ]
  },
  {
   "cell_type": "code",
   "execution_count": 38,
   "metadata": {},
   "outputs": [
    {
     "name": "stderr",
     "output_type": "stream",
     "text": [
      "/home/bhargav/anaconda3/lib/python3.6/site-packages/scipy/stats/stats.py:1713: FutureWarning: Using a non-tuple sequence for multidimensional indexing is deprecated; use `arr[tuple(seq)]` instead of `arr[seq]`. In the future this will be interpreted as an array index, `arr[np.array(seq)]`, which will result either in an error or a different result.\n",
      "  return np.add.reduce(sorted[indexer] * weights, axis=axis) / sumval\n"
     ]
    },
    {
     "data": {
      "text/plain": [
       "<seaborn.axisgrid.FacetGrid at 0x7fe75c0b26d8>"
      ]
     },
     "execution_count": 38,
     "metadata": {},
     "output_type": "execute_result"
    },
    {
     "data": {
      "image/png": "[encoded data removed]",
      "text/plain": [
       "<Figure size 1080x360 with 1 Axes>"
      ]
     },
     "metadata": {
      "needs_background": "light"
     },
     "output_type": "display_data"
    }
   ],
   "source": [
    "sns.catplot(x=\"Turn_ID\", y=\"Answer_rank\", kind='point', data=turn_vs_ans_rank_df, height=5, aspect=3)"
   ]
  },
  {
   "cell_type": "markdown",
   "metadata": {},
   "source": [
    "Vertical lines = standard deviation"
   ]
  },
  {
   "cell_type": "code",
   "execution_count": 39,
   "metadata": {},
   "outputs": [
    {
     "data": {
      "text/plain": [
       "<seaborn.axisgrid.FacetGrid at 0x7fe73ff64320>"
      ]
     },
     "execution_count": 39,
     "metadata": {},
     "output_type": "execute_result"
    },
    {
     "data": {
      "image/png": "[encoded data removed]",
      "text/plain": [
       "<Figure size 1080x360 with 1 Axes>"
      ]
     },
     "metadata": {
      "needs_background": "light"
     },
     "output_type": "display_data"
    }
   ],
   "source": [
    "sns.catplot(x=\"Turn_ID\", y=\"Answer_rank\", kind='point', data=turn_vs_ans_rank_df, height=5, aspect=3, ci='sd')"
   ]
  },
  {
   "cell_type": "code",
   "execution_count": 40,
   "metadata": {},
   "outputs": [],
   "source": [
    "grouped_ranks = []\n",
    "for rank in answer_ranks:\n",
    "    cat = \"Other\"\n",
    "    if(rank == 0):\n",
    "        cat = \"0\"\n",
    "    elif(rank == 1):\n",
    "        cat = \"1\"\n",
    "    elif(rank == 2):\n",
    "        cat = \"2\"\n",
    "    elif(rank == 3):\n",
    "        cat = \"3\"\n",
    "    grouped_ranks.append(cat)"
   ]
  },
  {
   "cell_type": "code",
   "execution_count": 41,
   "metadata": {},
   "outputs": [],
   "source": [
    "turn_vs_rank_cat = [[] for i in range(max(zero_based_turn_id) + 1)]\n",
    "for i,rank in enumerate(grouped_ranks):\n",
    "    turn_id = zero_based_turn_id[i]\n",
    "    turn_vs_rank_cat[turn_id].append(rank)\n",
    "    "
   ]
  },
  {
   "cell_type": "code",
   "execution_count": 42,
   "metadata": {},
   "outputs": [],
   "source": [
    "t_ids = []\n",
    "rank_categories = []\n",
    "fractions = []\n",
    "for i,bucket in enumerate(turn_vs_rank_cat):\n",
    "    unique, counts = np.unique(bucket, return_counts=True)\n",
    "    frac = dict(zip(unique, counts/len(bucket)))\n",
    "#     print(\"==============\")\n",
    "#     print(i,frac)\n",
    "#     print(\"==============\")\n",
    "    for key,value in frac.items():\n",
    "        t_ids.append(i)\n",
    "        rank_categories.append(key)\n",
    "        fractions.append(value)\n",
    "        \n",
    "assert(len(t_ids) == len(rank_categories) == len(fractions))"
   ]
  },
  {
   "cell_type": "code",
   "execution_count": 43,
   "metadata": {},
   "outputs": [
    {
     "name": "stdout",
     "output_type": "stream",
     "text": [
      "[0, 0, 0, 0, 0, 1, 1, 1, 1, 1]\n",
      "['0', '1', '2', '3', 'Other', '0', '1', '2', '3', 'Other']\n",
      "[0.612, 0.152, 0.088, 0.036, 0.112, 0.558, 0.15, 0.084, 0.052, 0.156]\n"
     ]
    }
   ],
   "source": [
    "print(t_ids[:10])\n",
    "print(rank_categories[:10])\n",
    "print(fractions[:10])"
   ]
  },
  {
   "cell_type": "code",
   "execution_count": 44,
   "metadata": {},
   "outputs": [],
   "source": [
    "turn_vs_rank_cat_df = pd.DataFrame(data={'Turn_ID':t_ids, 'Rank_categories':rank_categories, 'Fractions':fractions})"
   ]
  },
  {
   "cell_type": "code",
   "execution_count": 65,
   "metadata": {},
   "outputs": [
    {
     "data": {
      "text/plain": [
       "<seaborn.axisgrid.FacetGrid at 0x7fe73f403780>"
      ]
     },
     "execution_count": 65,
     "metadata": {},
     "output_type": "execute_result"
    },
    {
     "data": {
      "image/png": "[encoded data removed]",
      "text/plain": [
       "<Figure size 1386.5x432 with 1 Axes>"
      ]
     },
     "metadata": {
      "needs_background": "light"
     },
     "output_type": "display_data"
    }
   ],
   "source": [
    "p = sns.catplot(x=\"Turn_ID\", y=\"Fractions\", hue=\"Rank_categories\", data=turn_vs_rank_cat_df,\n",
    "                height=6, aspect=3, kind=\"bar\", palette=\"Paired\", hue_order=['0','1','2','3','Other'])\n",
    "p.set_ylabels(\"Fraction of questions who's true answer has rank 'k'\")"
   ]
  },
  {
   "cell_type": "markdown",
   "metadata": {},
   "source": [
    "# Examining sentence scores"
   ]
  },
  {
   "cell_type": "code",
   "execution_count": 46,
   "metadata": {},
   "outputs": [],
   "source": [
    "# considering only the first 20 turns because after that answer_ranks[index] > 1 isn't true for all questions \n",
    "# for some turn_id > 20\n",
    "\n",
    "avg_first_minus_second_rank0 = []\n",
    "avg_first_minus_second_rank1 = []\n",
    "\n",
    "for i in range(20):\n",
    "    bucket = turn_id_buckets[i]\n",
    "    score_differences_correct = []\n",
    "    score_differences_incorrect = []\n",
    "    for index in bucket:\n",
    "        if(answer_ranks[index] > 1):\n",
    "            continue\n",
    "        s0_index = predictions_arg_sorted[index][0]\n",
    "        s1_index = predictions_arg_sorted[index][1]\n",
    "        s0 = predictions_softmaxed[index][s0_index]\n",
    "        s1 = predictions_softmaxed[index][s1_index]\n",
    "        difference = s0 - s1\n",
    "        if(answer_ranks[index] == 0):\n",
    "            score_differences_correct.append(difference)\n",
    "        elif(answer_ranks[index] == 1):\n",
    "            score_differences_incorrect.append(difference)\n",
    "    \n",
    "    if(len(score_differences_correct) != 0 and len(score_differences_incorrect) != 0):\n",
    "        avg_difference_correct = np.mean(score_differences_correct)\n",
    "        avg_difference_incorrect = np.mean(score_differences_incorrect)\n",
    "        \n",
    "        avg_first_minus_second_rank0.append(avg_difference_correct)\n",
    "        avg_first_minus_second_rank1.append(avg_difference_incorrect)\n",
    "    else:\n",
    "        print(\"Skipped turn_id:{}\".format(i))\n",
    "        continue\n",
    "    \n",
    "    \n"
   ]
  },
  {
   "cell_type": "markdown",
   "metadata": {},
   "source": [
    "## Difference in scores between the first and the second ranked sentences when the ture answer is in first rank"
   ]
  },
  {
   "cell_type": "code",
   "execution_count": 47,
   "metadata": {},
   "outputs": [],
   "source": [
    "turn_vs_relative_diff_correct_df = pd.DataFrame(data={'Turn_ID':list(range(20)), 'Mean_Score_Differences':avg_first_minus_second_rank0})"
   ]
  },
  {
   "cell_type": "code",
   "execution_count": 48,
   "metadata": {},
   "outputs": [
    {
     "data": {
      "text/plain": [
       "<seaborn.axisgrid.FacetGrid at 0x7fe73febb780>"
      ]
     },
     "execution_count": 48,
     "metadata": {},
     "output_type": "execute_result"
    },
    {
     "data": {
      "image/png": "[encoded data removed]",
      "text/plain": [
       "<Figure size 720x360 with 1 Axes>"
      ]
     },
     "metadata": {
      "needs_background": "light"
     },
     "output_type": "display_data"
    }
   ],
   "source": [
    "sns.catplot(x=\"Turn_ID\", y=\"Mean_Score_Differences\", kind='point', data=turn_vs_relative_diff_correct_df, height=5, aspect=2)"
   ]
  },
  {
   "cell_type": "markdown",
   "metadata": {},
   "source": [
    "## Difference in scores between the first and the second ranked sentences when the ture answer is in second rank"
   ]
  },
  {
   "cell_type": "code",
   "execution_count": 49,
   "metadata": {},
   "outputs": [],
   "source": [
    "turn_vs_relative_diff_incorrect_df = pd.DataFrame(data={'Turn_ID':list(range(20)), 'Mean_Score_Differences':avg_first_minus_second_rank1})"
   ]
  },
  {
   "cell_type": "code",
   "execution_count": 50,
   "metadata": {},
   "outputs": [
    {
     "data": {
      "text/plain": [
       "<seaborn.axisgrid.FacetGrid at 0x7fe73faadb00>"
      ]
     },
     "execution_count": 50,
     "metadata": {},
     "output_type": "execute_result"
    },
    {
     "data": {
      "image/png": "[encoded data removed]",
      "text/plain": [
       "<Figure size 720x360 with 1 Axes>"
      ]
     },
     "metadata": {
      "needs_background": "light"
     },
     "output_type": "display_data"
    }
   ],
   "source": [
    "sns.catplot(x=\"Turn_ID\", y=\"Mean_Score_Differences\", kind='point', data=turn_vs_relative_diff_incorrect_df, height=5, aspect=2)"
   ]
  },
  {
   "cell_type": "markdown",
   "metadata": {},
   "source": [
    "## By how much was the first rank missed?"
   ]
  },
  {
   "cell_type": "code",
   "execution_count": 57,
   "metadata": {},
   "outputs": [],
   "source": [
    "score_differences = []\n",
    "for index in range(len(predictions_softmaxed)):\n",
    "    ans_rank = answer_ranks[index]\n",
    "    if(ans_rank == 0):\n",
    "        score_differences.append(0)\n",
    "    else:\n",
    "        s0_index = predictions_arg_sorted[index][0]\n",
    "        sk_index = predictions_arg_sorted[index][ans_rank]\n",
    "        s0 = predictions_softmaxed[index][s0_index]\n",
    "        sk = predictions_softmaxed[index][sk_index]\n",
    "        difference = s0 - sk\n",
    "        score_differences.append(difference)"
   ]
  },
  {
   "cell_type": "code",
   "execution_count": 58,
   "metadata": {},
   "outputs": [
    {
     "data": {
      "text/plain": [
       "[0, 0, 0, 0, 0.38760132, 0, 0, 0, 0.16570446, 0]"
      ]
     },
     "execution_count": 58,
     "metadata": {},
     "output_type": "execute_result"
    }
   ],
   "source": [
    "score_differences[:10]"
   ]
  },
  {
   "cell_type": "code",
   "execution_count": 66,
   "metadata": {},
   "outputs": [],
   "source": [
    "turn_vs_avg_score_differences_incorrect = []\n",
    "for bucket in turn_id_buckets[:20]:\n",
    "    scores = []\n",
    "    for index in bucket:\n",
    "        if(answer_ranks[index] != 0):\n",
    "            scores.append(score_differences[index])\n",
    "    mean_diff = np.mean(scores)\n",
    "    turn_vs_avg_score_differences_incorrect.append(mean_diff)"
   ]
  },
  {
   "cell_type": "code",
   "execution_count": 67,
   "metadata": {},
   "outputs": [],
   "source": [
    "turn_vs_avg_score_differences_incorrect_df = pd.DataFrame(data={'Turn_ID':list(range(20)), 'Mean_Score_Differences':turn_vs_avg_score_differences_incorrect})"
   ]
  },
  {
   "cell_type": "code",
   "execution_count": 68,
   "metadata": {},
   "outputs": [
    {
     "data": {
      "text/plain": [
       "<seaborn.axisgrid.FacetGrid at 0x7fe73f6096d8>"
      ]
     },
     "execution_count": 68,
     "metadata": {},
     "output_type": "execute_result"
    },
    {
     "data": {
      "image/png": "[encoded data removed]",
      "text/plain": [
       "<Figure size 720x360 with 1 Axes>"
      ]
     },
     "metadata": {
      "needs_background": "light"
     },
     "output_type": "display_data"
    }
   ],
   "source": [
    "sns.catplot(x=\"Turn_ID\", y=\"Mean_Score_Differences\", kind='point', data=turn_vs_avg_score_differences_incorrect_df, \n",
    "            height=5, aspect=2)"
   ]
  },
  {
   "cell_type": "markdown",
   "metadata": {},
   "source": [
    "# Examples"
   ]
  },
  {
   "cell_type": "code",
   "execution_count": 70,
   "metadata": {},
   "outputs": [],
   "source": [
    "text_data = unpickler(in_pkl_path, \"../data/coqa/dataset_formatted_dev.pkl\")"
   ]
  },
  {
   "cell_type": "code",
   "execution_count": 71,
   "metadata": {},
   "outputs": [
    {
     "data": {
      "text/plain": [
       "dict_keys(['passages', 'questions', 'answer_spans', 'answer_sentences', 'data_points', 'turn_ids', 'histories'])"
      ]
     },
     "execution_count": 71,
     "metadata": {},
     "output_type": "execute_result"
    }
   ],
   "source": [
    "text_data.keys()"
   ]
  },
  {
   "cell_type": "code",
   "execution_count": 147,
   "metadata": {},
   "outputs": [],
   "source": [
    "def get_formatted_example(data, predictions, index):\n",
    "    passage_id, question_id, prev_qa_ids = data[\"data_points\"][index]\n",
    "    scores = predictions[index]\n",
    "    turn_id = data[\"turn_ids\"][index]\n",
    "    passage_sents = []\n",
    "    for i in range(len(data[\"passages\"][passage_id])):\n",
    "        if(i < len(scores)):\n",
    "            sent = [scores[i]]+[\" \".join(data[\"passages\"][passage_id][i])]\n",
    "        else:\n",
    "            sent = [\"---Truncated---\"]+[\" \".join(data[\"passages\"][passage_id][i])]\n",
    "        passage_sents.append(sent)\n",
    "    current_question = \" \".join(data[\"questions\"][question_id])\n",
    "    current_correct_answer = \" \".join(data[\"answer_spans\"][question_id])\n",
    "    current_prediction = passage_sents[np.argmax(predictions[index])]\n",
    "    \n",
    "    question_i_1 = \" \".join(data[\"questions\"][prev_qa_ids[0]])\n",
    "    correct_answer_i_1 = \" \".join(data[\"answer_spans\"][prev_qa_ids[0]])\n",
    "    prediction_i_1 = passage_sents[np.argmax(predictions[index-1])][1]\n",
    "    \n",
    "    question_i_2 = \" \".join(data[\"questions\"][prev_qa_ids[1]])\n",
    "    correct_answer_i_2 = \" \".join(data[\"answer_spans\"][prev_qa_ids[1]])\n",
    "    prediction_i_2 = passage_sents[np.argmax(predictions[index-2])][1]\n",
    "    \n",
    "    print(\"====== Passage ======\")\n",
    "    for sent in passage_sents:\n",
    "        print(sent)\n",
    "    print()\n",
    "    print(\"====== History i-2 ======\")\n",
    "    print(\"Question: \")\n",
    "    print(question_i_2)\n",
    "    print()\n",
    "    print(\"True answer: \")\n",
    "    print(correct_answer_i_2)\n",
    "    print()\n",
    "    print(\"Prediction: \")\n",
    "    print(prediction_i_2)\n",
    "    print()\n",
    "    print(\"====== History i-1 ======\")\n",
    "    print(\"Question: \")\n",
    "    print(question_i_1)\n",
    "    print()\n",
    "    print(\"True answer: \")\n",
    "    print(correct_answer_i_1)\n",
    "    print()\n",
    "    print(\"Prediction: \")\n",
    "    print(prediction_i_1)\n",
    "    print()\n",
    "    print(\"====== Current turn. Turn_ID:{} ======\".format(turn_id))\n",
    "    print(\"Question: \")\n",
    "    print(current_question)\n",
    "    print()\n",
    "    print(\"True answer: \")\n",
    "    print(current_correct_answer)\n",
    "    print()\n",
    "    print(\"Prediction: \")\n",
    "    print(current_prediction)\n",
    "    print()"
   ]
  },
  {
   "cell_type": "markdown",
   "metadata": {},
   "source": [
    "## Incorrect with highest score difference"
   ]
  },
  {
   "cell_type": "code",
   "execution_count": 148,
   "metadata": {},
   "outputs": [],
   "source": [
    "index = np.argmax(score_differences)"
   ]
  },
  {
   "cell_type": "code",
   "execution_count": 149,
   "metadata": {},
   "outputs": [
    {
     "data": {
      "text/plain": [
       "0.99959403"
      ]
     },
     "execution_count": 149,
     "metadata": {},
     "output_type": "execute_result"
    }
   ],
   "source": [
    "score_differences[index]"
   ]
  },
  {
   "cell_type": "code",
   "execution_count": 150,
   "metadata": {},
   "outputs": [
    {
     "name": "stdout",
     "output_type": "stream",
     "text": [
      "====== Passage ======\n",
      "[2.1280653e-06, 'london , england cnn michael jackson had a level of hero worship on a par with elvis presley or the beatles but he was the first black star to inspire such a massive following around the world .']\n",
      "[2.5078265e-07, 'michael jackson , the ultimate showman , craved attention and was rarely disappointed .']\n",
      "[1.4188793e-06, 'total worldwide sales of more than 350 million records over his 40 year career give just a hint of the adoration there was for the king of pop .']\n",
      "[2.8109396e-05, 'the fact that his death came on the eve of a comeback tour in london will leave his devotees feeling even more bereft .']\n",
      "[7.3848076e-07, 'while his career and wealth had waned greatly in recent years , there was still enough support for the concerts to sell out at a rate of nearly 40,000 an hour .']\n",
      "[0.99975556, 'fans from as far afield as japan , germany and dubai queued to buy their tickets .']\n",
      "[2.974686e-05, 'steve greenberg , founder and ceo of s curve records , was a disc jockey in tel aviv , israel , when thriller first dropped and witnessed first hand how jackson became an international icon .']\n",
      "[9.98252e-07, 'his was a global appeal , greenberg said , among fans and artists worldwide .']\n",
      "[1.9342006e-06, 'he was as big in the middle east and southeast asia as he was in america and europe , greenberg said .']\n",
      "[1.14393465e-07, 'he had that universality that not many people had .']\n",
      "[4.777113e-08, 'the beatles had it , muhammad ali had it , but not many other people have had it .']\n",
      "[1.9599655e-07, 'jackson was known for far more than his music though .']\n",
      "[1.4309442e-05, 'speaking after his death in los angeles was announced , u.s . civil rights campaigner rev .']\n",
      "[0.00016152763, 'al sharpton paid tribute to the work of a trailblazer in helping people around the world through his charities .']\n",
      "[1.9244142e-06, 'how will you remember michael jackson ?']\n",
      "\n",
      "====== History i-2 ======\n",
      "Question: \n",
      "what did al sharpton say ?\n",
      "\n",
      "True answer: \n",
      "al sharpton paid tribute to the work of a trailblazer in helping people around the world through his charities .\n",
      "\n",
      "Prediction: \n",
      "fans from as far afield as japan , germany and dubai queued to buy their tickets .\n",
      "\n",
      "====== History i-1 ======\n",
      "Question: \n",
      "where else ?\n",
      "\n",
      "True answer: \n",
      "fans from as far afield as japan , germany and dubai queued to buy their tickets .\n",
      "\n",
      "Prediction: \n",
      "fans from as far afield as japan , germany and dubai queued to buy their tickets .\n",
      "\n",
      "====== Current turn. Turn_ID:11 ======\n",
      "Question: \n",
      "for what ?\n",
      "\n",
      "True answer: \n",
      "al sharpton paid tribute to the work of a trailblazer in helping people around the world through his charities .\n",
      "\n",
      "Prediction: \n",
      "[0.99975556, 'fans from as far afield as japan , germany and dubai queued to buy their tickets .']\n",
      "\n"
     ]
    }
   ],
   "source": [
    "get_formatted_example(data=text_data,predictions=predictions_softmaxed, index=index)"
   ]
  },
  {
   "cell_type": "markdown",
   "metadata": {},
   "source": [
    "## Incorrect with lowest score difference"
   ]
  },
  {
   "cell_type": "code",
   "execution_count": 151,
   "metadata": {},
   "outputs": [],
   "source": [
    "fake_score_differences = []"
   ]
  },
  {
   "cell_type": "code",
   "execution_count": 152,
   "metadata": {},
   "outputs": [],
   "source": [
    "for item in score_differences:\n",
    "    if item < 1e-40:\n",
    "        fake_score_differences.append(999)\n",
    "    else:\n",
    "        fake_score_differences.append(item)"
   ]
  },
  {
   "cell_type": "code",
   "execution_count": 153,
   "metadata": {},
   "outputs": [],
   "source": [
    "index = np.argmin(fake_score_differences)"
   ]
  },
  {
   "cell_type": "code",
   "execution_count": 154,
   "metadata": {},
   "outputs": [
    {
     "data": {
      "text/plain": [
       "0.00021329522"
      ]
     },
     "execution_count": 154,
     "metadata": {},
     "output_type": "execute_result"
    }
   ],
   "source": [
    "fake_score_differences[index]"
   ]
  },
  {
   "cell_type": "code",
   "execution_count": 156,
   "metadata": {},
   "outputs": [
    {
     "name": "stdout",
     "output_type": "stream",
     "text": [
      "====== Passage ======\n",
      "[0.10477245, \"i 'm leo .\"]\n",
      "[0.07144693, 'there is a great artist in my family .']\n",
      "[0.0046640625, 'she is lisa .']\n",
      "[0.068999425, 'lisa likes drawing a lot .']\n",
      "[0.055822853, 'here are her three drawings .']\n",
      "[0.29714352, 'there is an animal in the first drawing .']\n",
      "[0.011167471, 'it has two big eyes , a big mouth and two small ears .']\n",
      "[0.0019318841, 'it has long arms and long legs .']\n",
      "[0.0011218714, 'it is black and white .']\n",
      "[0.001848499, 'there are some apples in its hands .']\n",
      "[0.0014962994, 'it looks very happy .']\n",
      "[0.00056506705, 'what is it ?']\n",
      "[0.011746253, \"i do n't know , but lisa says it is a panda .\"]\n",
      "[0.2973568, 'there is a woman in the second drawing .']\n",
      "[0.0062898537, 'she is thin .']\n",
      "[0.024272524, 'she has straight blonde hair , a small mouth , a big nose and two big eyes .']\n",
      "[0.0016686377, 'she looks angry .']\n",
      "[0.0005142102, 'who is she ?']\n",
      "[0.00091333885, 'lisa says she is our mom .']\n",
      "[0.007459515, 'but mom has curly blonde hair , small eyes and a small nose .']\n",
      "[0.010053291, 'there is an animal in the third drawing , too .']\n",
      "[0.0057616434, 'its head is an apple .']\n",
      "[0.0021060915, 'its hair and tail are leaves .']\n",
      "[0.009639335, 'it has a long mouth , and _ is a banana .']\n",
      "[0.0012381964, 'its two legs are carrots .']\n",
      "['---Truncated---', 'what is it ?']\n",
      "['---Truncated---', \"lisa says it is a horse , but it does n't look like a horse .\"]\n",
      "['---Truncated---', \"lisa is really a great artist , is n't she ?\"]\n",
      "['---Truncated---', '.']\n",
      "\n",
      "====== History i-2 ======\n",
      "Question: \n",
      "did lisa say it was a zebra ?\n",
      "\n",
      "True answer: \n",
      "lisa says it is a horse , but it does n't look like a horse .\n",
      "\n",
      "Prediction: \n",
      "its hair and tail are leaves .\n",
      "\n",
      "====== History i-1 ======\n",
      "Question: \n",
      "what are its legs made out of ?\n",
      "\n",
      "True answer: \n",
      "its two legs are carrots .\n",
      "\n",
      "Prediction: \n",
      "i do n't know , but lisa says it is a panda .\n",
      "\n",
      "====== Current turn. Turn_ID:8 ======\n",
      "Question: \n",
      "what is in the first drawing ?\n",
      "\n",
      "True answer: \n",
      "there is an animal in the first drawing .\n",
      "\n",
      "Prediction: \n",
      "[0.2973568, 'there is a woman in the second drawing .']\n",
      "\n"
     ]
    }
   ],
   "source": [
    "get_formatted_example(data=text_data,predictions=predictions_softmaxed, index=index)"
   ]
  },
  {
   "cell_type": "markdown",
   "metadata": {},
   "source": [
    "## Correct prediction"
   ]
  },
  {
   "cell_type": "code",
   "execution_count": 166,
   "metadata": {},
   "outputs": [],
   "source": [
    "index = np.argmin(score_differences[3:]) + 3"
   ]
  },
  {
   "cell_type": "code",
   "execution_count": 167,
   "metadata": {},
   "outputs": [
    {
     "data": {
      "text/plain": [
       "3"
      ]
     },
     "execution_count": 167,
     "metadata": {},
     "output_type": "execute_result"
    }
   ],
   "source": [
    "index"
   ]
  },
  {
   "cell_type": "code",
   "execution_count": 168,
   "metadata": {},
   "outputs": [
    {
     "name": "stdout",
     "output_type": "stream",
     "text": [
      "====== Passage ======\n",
      "[0.100050524, 'once upon a time , in a barn near a farm house , there lived a little white kitten named cotton .']\n",
      "[0.1307544, \"cotton lived high up in a nice warm place above the barn where all of the farmer 's horses slept .\"]\n",
      "[0.07253453, \"but cotton was n't alone in her little home above the barn , oh no .\"]\n",
      "[0.62907964, 'she shared her hay bed with her mommy and 5 other sisters .']\n",
      "[0.029970558, 'all of her sisters were cute and fluffy , like cotton .']\n",
      "[0.005721311, 'but she was the only white one in the bunch .']\n",
      "[0.014648445, \"the rest of her sisters were all orange with beautiful white tiger stripes like cotton 's mommy .\"]\n",
      "[0.0006248141, 'being different made cotton quite sad .']\n",
      "[0.00447485, 'she often wished she looked like the rest of her family .']\n",
      "[0.00094026467, \"so one day , when cotton found a can of the old farmer 's orange paint , she used it to paint herself like them .\"]\n",
      "[0.009264101, 'when her mommy and sisters found her they started laughing .']\n",
      "[3.825288e-05, 'what are you doing , cotton ?']\n",
      "[1.2448965e-05, 'i only wanted to be more like you .']\n",
      "[2.3454073e-05, \"cotton 's mommy rubbed her face on cotton 's and said oh cotton , but your fur is so pretty and special , like you .\"]\n",
      "[9.276092e-06, 'we would never want you to be any other way .']\n",
      "[7.090457e-05, \"and with that , cotton 's mommy picked her up and dropped her into a big bucket of water .\"]\n",
      "[9.2157235e-05, 'when cotton came out she was herself again .']\n",
      "[0.0016164707, \"her sisters licked her face until cotton 's fur was all all dry .\"]\n",
      "[5.083648e-05, \"do n't ever do that again , cotton they all cried .\"]\n",
      "[1.9523915e-05, \"next time you might mess up that pretty white fur of yours and we would n't want that then cotton thought , i change my mind .\"]\n",
      "[3.0987924e-06, 'i like being special .']\n",
      "\n",
      "====== History i-2 ======\n",
      "Question: \n",
      "did she live alone ?\n",
      "\n",
      "True answer: \n",
      "but cotton was n't alone in her little home above the barn , oh no .\n",
      "\n",
      "Prediction: \n",
      "once upon a time , in a barn near a farm house , there lived a little white kitten named cotton .\n",
      "\n",
      "====== History i-1 ======\n",
      "Question: \n",
      "where did she live ?\n",
      "\n",
      "True answer: \n",
      "once upon a time , in a barn near a farm house , there lived a little white kitten named cotton .\n",
      "\n",
      "Prediction: \n",
      "but cotton was n't alone in her little home above the barn , oh no .\n",
      "\n",
      "====== Current turn. Turn_ID:4 ======\n",
      "Question: \n",
      "who did she live with ?\n",
      "\n",
      "True answer: \n",
      "she shared her hay bed with her mommy and 5 other sisters .\n",
      "\n",
      "Prediction: \n",
      "[0.62907964, 'she shared her hay bed with her mommy and 5 other sisters .']\n",
      "\n"
     ]
    }
   ],
   "source": [
    "get_formatted_example(data=text_data,predictions=predictions_softmaxed, index=index)"
   ]
  },
  {
   "cell_type": "code",
   "execution_count": null,
   "metadata": {},
   "outputs": [],
   "source": []
  }
 ],
 "metadata": {
  "kernelspec": {
   "display_name": "Python 3",
   "language": "python",
   "name": "python3"
  },
  "language_info": {
   "codemirror_mode": {
    "name": "ipython",
    "version": 3
   },
   "file_extension": ".py",
   "mimetype": "text/x-python",
   "name": "python",
   "nbconvert_exporter": "python",
   "pygments_lexer": "ipython3",
   "version": "3.6.6"
  }
 },
 "nbformat": 4,
 "nbformat_minor": 2
}
