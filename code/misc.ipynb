{
 "cells": [
  {
   "cell_type": "code",
   "execution_count": 1,
   "metadata": {},
   "outputs": [],
   "source": [
    "import torch\n",
    "import numpy as np\n",
    "import torch.nn as nn"
   ]
  },
  {
   "cell_type": "code",
   "execution_count": 2,
   "metadata": {},
   "outputs": [],
   "source": [
    "a = torch.tensor([[[1,0,0],[4,5,0]], [[1,0,0],[4,5,0]]],dtype=torch.float32)"
   ]
  },
  {
   "cell_type": "code",
   "execution_count": 3,
   "metadata": {},
   "outputs": [
    {
     "name": "stdout",
     "output_type": "stream",
     "text": [
      "tensor([[[1., 0., 0.],\n",
      "         [4., 5., 0.]],\n",
      "\n",
      "        [[1., 0., 0.],\n",
      "         [4., 5., 0.]]])\n"
     ]
    }
   ],
   "source": [
    "print(a)"
   ]
  },
  {
   "cell_type": "code",
   "execution_count": 6,
   "metadata": {},
   "outputs": [],
   "source": [
    "def construct_mask(tensor_in, padding_index = 0):\n",
    "    mask = tensor_in == padding_index\n",
    "    float_mask = mask.type(dtype=torch.float32)\n",
    "    float_mask =  float_mask.masked_fill(mask=mask, value=-1e-20)\n",
    "    return float_mask"
   ]
  },
  {
   "cell_type": "code",
   "execution_count": 7,
   "metadata": {},
   "outputs": [
    {
     "data": {
      "text/plain": [
       "tensor([[[ 0.0000, -0.0000, -0.0000],\n",
       "         [ 0.0000,  0.0000, -0.0000]],\n",
       "\n",
       "        [[ 0.0000, -0.0000, -0.0000],\n",
       "         [ 0.0000,  0.0000, -0.0000]]])"
      ]
     },
     "execution_count": 7,
     "metadata": {},
     "output_type": "execute_result"
    }
   ],
   "source": [
    "mask = construct_mask(a, padding_index = 0)\n",
    "mask"
   ]
  },
  {
   "cell_type": "code",
   "execution_count": 8,
   "metadata": {},
   "outputs": [
    {
     "data": {
      "text/plain": [
       "tensor([[[ 1.0000, -0.0000, -0.0000],\n",
       "         [ 4.0000,  5.0000, -0.0000]],\n",
       "\n",
       "        [[ 1.0000, -0.0000, -0.0000],\n",
       "         [ 4.0000,  5.0000, -0.0000]]])"
      ]
     },
     "execution_count": 8,
     "metadata": {},
     "output_type": "execute_result"
    }
   ],
   "source": [
    "a + mask"
   ]
  },
  {
   "cell_type": "code",
   "execution_count": 31,
   "metadata": {},
   "outputs": [],
   "source": [
    "lengths = [0,1,2,3,4,5,6,7]\n",
    "max_seq_len = 7\n",
    "batch_size = len(lengths)"
   ]
  },
  {
   "cell_type": "code",
   "execution_count": 32,
   "metadata": {},
   "outputs": [],
   "source": [
    "m = torch.zeros(max_seq_len,dtype=torch.float32)"
   ]
  },
  {
   "cell_type": "code",
   "execution_count": 33,
   "metadata": {},
   "outputs": [
    {
     "data": {
      "text/plain": [
       "tensor([0., 0., 0., 0., 0., 0., 0.])"
      ]
     },
     "execution_count": 33,
     "metadata": {},
     "output_type": "execute_result"
    }
   ],
   "source": [
    "m"
   ]
  },
  {
   "cell_type": "code",
   "execution_count": 36,
   "metadata": {},
   "outputs": [],
   "source": [
    "mask = torch.zeros(batch_size,max_seq_len)\n",
    "for i in range(batch_size):\n",
    "    for j in range(lengths[i],max_seq_len):\n",
    "        mask[i,j] = -1"
   ]
  },
  {
   "cell_type": "code",
   "execution_count": 37,
   "metadata": {},
   "outputs": [
    {
     "data": {
      "text/plain": [
       "tensor([[-1., -1., -1., -1., -1., -1., -1.],\n",
       "        [ 0., -1., -1., -1., -1., -1., -1.],\n",
       "        [ 0.,  0., -1., -1., -1., -1., -1.],\n",
       "        [ 0.,  0.,  0., -1., -1., -1., -1.],\n",
       "        [ 0.,  0.,  0.,  0., -1., -1., -1.],\n",
       "        [ 0.,  0.,  0.,  0.,  0., -1., -1.],\n",
       "        [ 0.,  0.,  0.,  0.,  0.,  0., -1.],\n",
       "        [ 0.,  0.,  0.,  0.,  0.,  0.,  0.]])"
      ]
     },
     "execution_count": 37,
     "metadata": {},
     "output_type": "execute_result"
    }
   ],
   "source": [
    "mask"
   ]
  },
  {
   "cell_type": "code",
   "execution_count": null,
   "metadata": {},
   "outputs": [],
   "source": []
  }
 ],
 "metadata": {
  "kernelspec": {
   "display_name": "Python 3",
   "language": "python",
   "name": "python3"
  },
  "language_info": {
   "codemirror_mode": {
    "name": "ipython",
    "version": 3
   },
   "file_extension": ".py",
   "mimetype": "text/x-python",
   "name": "python",
   "nbconvert_exporter": "python",
   "pygments_lexer": "ipython3",
   "version": "3.6.6"
  }
 },
 "nbformat": 4,
 "nbformat_minor": 2
}
